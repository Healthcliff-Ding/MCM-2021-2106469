{
 "metadata": {
  "language_info": {
   "codemirror_mode": {
    "name": "ipython",
    "version": 3
   },
   "file_extension": ".py",
   "mimetype": "text/x-python",
   "name": "python",
   "nbconvert_exporter": "python",
   "pygments_lexer": "ipython3",
   "version": "3.7.6-final"
  },
  "orig_nbformat": 2,
  "kernelspec": {
   "name": "python37664bitpytorchconda40107000e60648918937917a159efab8",
   "display_name": "Python 3.7.6 64-bit ('pytorch': conda)",
   "language": "python"
  }
 },
 "nbformat": 4,
 "nbformat_minor": 2,
 "cells": [
  {
   "cell_type": "code",
   "execution_count": 15,
   "metadata": {},
   "outputs": [],
   "source": [
    "import pandas as pd\n",
    "import numpy as np"
   ]
  },
  {
   "cell_type": "code",
   "execution_count": 19,
   "metadata": {},
   "outputs": [
    {
     "output_type": "execute_result",
     "data": {
      "text/plain": [
       "        0         1\n",
       "0  754032  131605.0\n",
       "1   66915   75344.7\n",
       "2  894465   71370.1\n",
       "3  100160   42779.7\n",
       "4  531986   41895.8"
      ],
      "text/html": "<div>\n<style scoped>\n    .dataframe tbody tr th:only-of-type {\n        vertical-align: middle;\n    }\n\n    .dataframe tbody tr th {\n        vertical-align: top;\n    }\n\n    .dataframe thead th {\n        text-align: right;\n    }\n</style>\n<table border=\"1\" class=\"dataframe\">\n  <thead>\n    <tr style=\"text-align: right;\">\n      <th></th>\n      <th>0</th>\n      <th>1</th>\n    </tr>\n  </thead>\n  <tbody>\n    <tr>\n      <th>0</th>\n      <td>754032</td>\n      <td>131605.0</td>\n    </tr>\n    <tr>\n      <th>1</th>\n      <td>66915</td>\n      <td>75344.7</td>\n    </tr>\n    <tr>\n      <th>2</th>\n      <td>894465</td>\n      <td>71370.1</td>\n    </tr>\n    <tr>\n      <th>3</th>\n      <td>100160</td>\n      <td>42779.7</td>\n    </tr>\n    <tr>\n      <th>4</th>\n      <td>531986</td>\n      <td>41895.8</td>\n    </tr>\n  </tbody>\n</table>\n</div>"
     },
     "metadata": {},
     "execution_count": 19
    }
   ],
   "source": [
    "root = 'E:\\Dataset\\MCM\\\\2021_ICM_Problem_D_Data'\n",
    "filename = 'InfluenceData2.csv'\n",
    "ifn = pd.read_csv(root + '\\\\' + filename, header=None)\n",
    "ifn.head(5)"
   ]
  },
  {
   "cell_type": "code",
   "execution_count": 20,
   "metadata": {},
   "outputs": [
    {
     "output_type": "execute_result",
     "data": {
      "text/plain": [
       "array([754032., 131605.])"
      ]
     },
     "metadata": {},
     "execution_count": 20
    }
   ],
   "source": [
    "ifn = ifn.to_numpy()\n",
    "ifn[0]"
   ]
  },
  {
   "cell_type": "code",
   "execution_count": 21,
   "metadata": {},
   "outputs": [
    {
     "output_type": "execute_result",
     "data": {
      "text/plain": [
       "array([754032.,  66915., 894465., 100160., 531986., 139026., 354105.,\n",
       "       840402.,  41874., 577627., 631774., 120521., 379125., 418740.,\n",
       "       180228., 346336., 549797., 771438., 562304., 489303., 316834.,\n",
       "        75747., 128099., 538677., 490004., 112462., 824022., 852855.,\n",
       "       617196., 816890.,  51992., 270491., 608701., 423829., 192382.,\n",
       "        38490., 276085.,  84209., 238115., 622805.,   5882., 414251.,\n",
       "        55128.,  46861., 114342., 357406., 410219., 866786., 104714.,\n",
       "       182598., 858827., 325459.,   5953., 175553.,  91650., 604852.,\n",
       "       290812., 899530., 821571., 105354., 446509., 796734., 755156.,\n",
       "       307461., 582313.,  46699., 895136., 574772., 138699.,  58549.,\n",
       "        87985., 233066., 246611., 219203., 530745., 137390., 944310.,\n",
       "       144458., 607448., 131650., 577531., 332141., 642542.,  76881.,\n",
       "       926548., 987491., 672910., 583959., 751019.,  33161., 988440.,\n",
       "        71209.,  38936., 852007.,  79016., 815039.,  19701., 240865.,\n",
       "       174557., 422405.])"
      ]
     },
     "metadata": {},
     "execution_count": 21
    }
   ],
   "source": [
    "top_ifn = ifn[:100, 0]\n",
    "top_ifn"
   ]
  },
  {
   "cell_type": "code",
   "execution_count": 22,
   "metadata": {},
   "outputs": [
    {
     "output_type": "stream",
     "name": "stdout",
     "text": [
      "<class 'pandas.core.frame.DataFrame'>\nRangeIndex: 5602 entries, 0 to 5601\nData columns (total 25 columns):\n #   Column            Non-Null Count  Dtype  \n---  ------            --------------  -----  \n 0   artist_id         5602 non-null   int64  \n 1   danceability      5602 non-null   float64\n 2   energy            5602 non-null   float64\n 3   valence           5602 non-null   float64\n 4   tempo             5602 non-null   float64\n 5   loudness          5602 non-null   float64\n 6   mode              5602 non-null   float64\n 7   acousticness      5602 non-null   float64\n 8   instrumentalness  5602 non-null   float64\n 9   liveness          5602 non-null   float64\n 10  speechiness       5602 non-null   float64\n 11  is_C              5602 non-null   float64\n 12  is_C#/Db          5602 non-null   float64\n 13  is_D              5602 non-null   float64\n 14  is_D#/Eb          5602 non-null   float64\n 15  is_E              5602 non-null   float64\n 16  is_F              5602 non-null   float64\n 17  is_F#/Gb          5602 non-null   float64\n 18  is_G              5602 non-null   float64\n 19  is_G#/Ab          5602 non-null   float64\n 20  is_A              5602 non-null   float64\n 21  is_A#/Bb          5602 non-null   float64\n 22  is_B              5602 non-null   float64\n 23  main_genre        5602 non-null   object \n 24  active_start      5602 non-null   int64  \ndtypes: float64(22), int64(2), object(1)\nmemory usage: 1.1+ MB\n"
     ]
    }
   ],
   "source": [
    "filename = 'NormalArtistWithLabel.csv'\n",
    "data = pd.read_csv(root + '\\\\' + filename)\n",
    "data.info()"
   ]
  },
  {
   "cell_type": "code",
   "execution_count": 23,
   "metadata": {},
   "outputs": [
    {
     "output_type": "execute_result",
     "data": {
      "text/plain": [
       "      artist_id  danceability    energy   valence     tempo  loudness  \\\n",
       "1        816890      0.611846  0.448513  0.685619  0.478517  0.688228   \n",
       "2         79016      0.558345  0.199884  0.494759  0.449351  0.648872   \n",
       "3         66915      0.490243  0.477135  0.550421  0.541808  0.698081   \n",
       "4        894465      0.503682  0.719720  0.659016  0.528177  0.778923   \n",
       "5         41874      0.479293  0.531469  0.636566  0.540852  0.728416   \n",
       "...         ...           ...       ...       ...       ...       ...   \n",
       "1241     418740      0.242585  0.939350  0.392234  0.648960  0.825081   \n",
       "1273      76881      0.629588  0.504493  0.699102  0.484220  0.732673   \n",
       "1319      19701      0.550416  0.613542  0.606154  0.495416  0.726991   \n",
       "1422     866786      0.371455  0.778200  0.559615  0.626199  0.720301   \n",
       "1528      51992      0.376539  0.504987  0.414258  0.467585  0.724281   \n",
       "\n",
       "          mode  acousticness  instrumentalness  liveness  ...  is_E      is_F  \\\n",
       "1     0.198288      0.688390          0.023275  0.239903  ...   0.0  0.000000   \n",
       "2     0.198288      0.912147          0.013426  0.214403  ...   0.0  0.198288   \n",
       "3     0.198288      0.564826          0.035161  0.309317  ...   0.0  0.000000   \n",
       "4     0.198288      0.294967          0.181025  0.267156  ...   0.0  0.000000   \n",
       "5     0.198288      0.400088          0.118564  0.186800  ...   0.0  0.000000   \n",
       "...        ...           ...               ...       ...  ...   ...       ...   \n",
       "1241  0.198288      0.027025          0.040176  0.231663  ...   0.0  0.000000   \n",
       "1273  0.198288      0.757641          0.003313  0.124333  ...   0.0  0.000000   \n",
       "1319  0.198288      0.165783          0.157892  0.148417  ...   0.0  0.000000   \n",
       "1422  0.198288      0.036039          0.007439  0.248940  ...   0.0  0.000000   \n",
       "1528  0.198288      0.256566          0.022668  0.117366  ...   0.0  0.000000   \n",
       "\n",
       "      is_F#/Gb      is_G  is_G#/Ab      is_A  is_A#/Bb  is_B  main_genre  \\\n",
       "1          0.0  0.000000       0.0  0.000000  0.198288   0.0     Country   \n",
       "2          0.0  0.000000       0.0  0.000000  0.000000   0.0       Vocal   \n",
       "3          0.0  0.198288       0.0  0.000000  0.000000   0.0    Pop/Rock   \n",
       "4          0.0  0.000000       0.0  0.000000  0.000000   0.0    Pop/Rock   \n",
       "5          0.0  0.000000       0.0  0.198288  0.000000   0.0    Pop/Rock   \n",
       "...        ...       ...       ...       ...       ...   ...         ...   \n",
       "1241       0.0  0.000000       0.0  0.198288  0.000000   0.0    Pop/Rock   \n",
       "1273       0.0  0.000000       0.0  0.198288  0.000000   0.0       Blues   \n",
       "1319       0.0  0.000000       0.0  0.198288  0.000000   0.0    Pop/Rock   \n",
       "1422       0.0  0.000000       0.0  0.198288  0.000000   0.0    Pop/Rock   \n",
       "1528       0.0  0.000000       0.0  0.000000  0.000000   0.0    Pop/Rock   \n",
       "\n",
       "      active_start  \n",
       "1             1950  \n",
       "2             1930  \n",
       "3             1960  \n",
       "4             1960  \n",
       "5             1960  \n",
       "...            ...  \n",
       "1241          1970  \n",
       "1273          1940  \n",
       "1319          1970  \n",
       "1422          1970  \n",
       "1528          1970  \n",
       "\n",
       "[100 rows x 25 columns]"
      ],
      "text/html": "<div>\n<style scoped>\n    .dataframe tbody tr th:only-of-type {\n        vertical-align: middle;\n    }\n\n    .dataframe tbody tr th {\n        vertical-align: top;\n    }\n\n    .dataframe thead th {\n        text-align: right;\n    }\n</style>\n<table border=\"1\" class=\"dataframe\">\n  <thead>\n    <tr style=\"text-align: right;\">\n      <th></th>\n      <th>artist_id</th>\n      <th>danceability</th>\n      <th>energy</th>\n      <th>valence</th>\n      <th>tempo</th>\n      <th>loudness</th>\n      <th>mode</th>\n      <th>acousticness</th>\n      <th>instrumentalness</th>\n      <th>liveness</th>\n      <th>...</th>\n      <th>is_E</th>\n      <th>is_F</th>\n      <th>is_F#/Gb</th>\n      <th>is_G</th>\n      <th>is_G#/Ab</th>\n      <th>is_A</th>\n      <th>is_A#/Bb</th>\n      <th>is_B</th>\n      <th>main_genre</th>\n      <th>active_start</th>\n    </tr>\n  </thead>\n  <tbody>\n    <tr>\n      <th>1</th>\n      <td>816890</td>\n      <td>0.611846</td>\n      <td>0.448513</td>\n      <td>0.685619</td>\n      <td>0.478517</td>\n      <td>0.688228</td>\n      <td>0.198288</td>\n      <td>0.688390</td>\n      <td>0.023275</td>\n      <td>0.239903</td>\n      <td>...</td>\n      <td>0.0</td>\n      <td>0.000000</td>\n      <td>0.0</td>\n      <td>0.000000</td>\n      <td>0.0</td>\n      <td>0.000000</td>\n      <td>0.198288</td>\n      <td>0.0</td>\n      <td>Country</td>\n      <td>1950</td>\n    </tr>\n    <tr>\n      <th>2</th>\n      <td>79016</td>\n      <td>0.558345</td>\n      <td>0.199884</td>\n      <td>0.494759</td>\n      <td>0.449351</td>\n      <td>0.648872</td>\n      <td>0.198288</td>\n      <td>0.912147</td>\n      <td>0.013426</td>\n      <td>0.214403</td>\n      <td>...</td>\n      <td>0.0</td>\n      <td>0.198288</td>\n      <td>0.0</td>\n      <td>0.000000</td>\n      <td>0.0</td>\n      <td>0.000000</td>\n      <td>0.000000</td>\n      <td>0.0</td>\n      <td>Vocal</td>\n      <td>1930</td>\n    </tr>\n    <tr>\n      <th>3</th>\n      <td>66915</td>\n      <td>0.490243</td>\n      <td>0.477135</td>\n      <td>0.550421</td>\n      <td>0.541808</td>\n      <td>0.698081</td>\n      <td>0.198288</td>\n      <td>0.564826</td>\n      <td>0.035161</td>\n      <td>0.309317</td>\n      <td>...</td>\n      <td>0.0</td>\n      <td>0.000000</td>\n      <td>0.0</td>\n      <td>0.198288</td>\n      <td>0.0</td>\n      <td>0.000000</td>\n      <td>0.000000</td>\n      <td>0.0</td>\n      <td>Pop/Rock</td>\n      <td>1960</td>\n    </tr>\n    <tr>\n      <th>4</th>\n      <td>894465</td>\n      <td>0.503682</td>\n      <td>0.719720</td>\n      <td>0.659016</td>\n      <td>0.528177</td>\n      <td>0.778923</td>\n      <td>0.198288</td>\n      <td>0.294967</td>\n      <td>0.181025</td>\n      <td>0.267156</td>\n      <td>...</td>\n      <td>0.0</td>\n      <td>0.000000</td>\n      <td>0.0</td>\n      <td>0.000000</td>\n      <td>0.0</td>\n      <td>0.000000</td>\n      <td>0.000000</td>\n      <td>0.0</td>\n      <td>Pop/Rock</td>\n      <td>1960</td>\n    </tr>\n    <tr>\n      <th>5</th>\n      <td>41874</td>\n      <td>0.479293</td>\n      <td>0.531469</td>\n      <td>0.636566</td>\n      <td>0.540852</td>\n      <td>0.728416</td>\n      <td>0.198288</td>\n      <td>0.400088</td>\n      <td>0.118564</td>\n      <td>0.186800</td>\n      <td>...</td>\n      <td>0.0</td>\n      <td>0.000000</td>\n      <td>0.0</td>\n      <td>0.000000</td>\n      <td>0.0</td>\n      <td>0.198288</td>\n      <td>0.000000</td>\n      <td>0.0</td>\n      <td>Pop/Rock</td>\n      <td>1960</td>\n    </tr>\n    <tr>\n      <th>...</th>\n      <td>...</td>\n      <td>...</td>\n      <td>...</td>\n      <td>...</td>\n      <td>...</td>\n      <td>...</td>\n      <td>...</td>\n      <td>...</td>\n      <td>...</td>\n      <td>...</td>\n      <td>...</td>\n      <td>...</td>\n      <td>...</td>\n      <td>...</td>\n      <td>...</td>\n      <td>...</td>\n      <td>...</td>\n      <td>...</td>\n      <td>...</td>\n      <td>...</td>\n      <td>...</td>\n    </tr>\n    <tr>\n      <th>1241</th>\n      <td>418740</td>\n      <td>0.242585</td>\n      <td>0.939350</td>\n      <td>0.392234</td>\n      <td>0.648960</td>\n      <td>0.825081</td>\n      <td>0.198288</td>\n      <td>0.027025</td>\n      <td>0.040176</td>\n      <td>0.231663</td>\n      <td>...</td>\n      <td>0.0</td>\n      <td>0.000000</td>\n      <td>0.0</td>\n      <td>0.000000</td>\n      <td>0.0</td>\n      <td>0.198288</td>\n      <td>0.000000</td>\n      <td>0.0</td>\n      <td>Pop/Rock</td>\n      <td>1970</td>\n    </tr>\n    <tr>\n      <th>1273</th>\n      <td>76881</td>\n      <td>0.629588</td>\n      <td>0.504493</td>\n      <td>0.699102</td>\n      <td>0.484220</td>\n      <td>0.732673</td>\n      <td>0.198288</td>\n      <td>0.757641</td>\n      <td>0.003313</td>\n      <td>0.124333</td>\n      <td>...</td>\n      <td>0.0</td>\n      <td>0.000000</td>\n      <td>0.0</td>\n      <td>0.000000</td>\n      <td>0.0</td>\n      <td>0.198288</td>\n      <td>0.000000</td>\n      <td>0.0</td>\n      <td>Blues</td>\n      <td>1940</td>\n    </tr>\n    <tr>\n      <th>1319</th>\n      <td>19701</td>\n      <td>0.550416</td>\n      <td>0.613542</td>\n      <td>0.606154</td>\n      <td>0.495416</td>\n      <td>0.726991</td>\n      <td>0.198288</td>\n      <td>0.165783</td>\n      <td>0.157892</td>\n      <td>0.148417</td>\n      <td>...</td>\n      <td>0.0</td>\n      <td>0.000000</td>\n      <td>0.0</td>\n      <td>0.000000</td>\n      <td>0.0</td>\n      <td>0.198288</td>\n      <td>0.000000</td>\n      <td>0.0</td>\n      <td>Pop/Rock</td>\n      <td>1970</td>\n    </tr>\n    <tr>\n      <th>1422</th>\n      <td>866786</td>\n      <td>0.371455</td>\n      <td>0.778200</td>\n      <td>0.559615</td>\n      <td>0.626199</td>\n      <td>0.720301</td>\n      <td>0.198288</td>\n      <td>0.036039</td>\n      <td>0.007439</td>\n      <td>0.248940</td>\n      <td>...</td>\n      <td>0.0</td>\n      <td>0.000000</td>\n      <td>0.0</td>\n      <td>0.000000</td>\n      <td>0.0</td>\n      <td>0.198288</td>\n      <td>0.000000</td>\n      <td>0.0</td>\n      <td>Pop/Rock</td>\n      <td>1970</td>\n    </tr>\n    <tr>\n      <th>1528</th>\n      <td>51992</td>\n      <td>0.376539</td>\n      <td>0.504987</td>\n      <td>0.414258</td>\n      <td>0.467585</td>\n      <td>0.724281</td>\n      <td>0.198288</td>\n      <td>0.256566</td>\n      <td>0.022668</td>\n      <td>0.117366</td>\n      <td>...</td>\n      <td>0.0</td>\n      <td>0.000000</td>\n      <td>0.0</td>\n      <td>0.000000</td>\n      <td>0.0</td>\n      <td>0.000000</td>\n      <td>0.000000</td>\n      <td>0.0</td>\n      <td>Pop/Rock</td>\n      <td>1970</td>\n    </tr>\n  </tbody>\n</table>\n<p>100 rows × 25 columns</p>\n</div>"
     },
     "metadata": {},
     "execution_count": 23
    }
   ],
   "source": [
    "ind = data.loc[data['artist_id'].isin(top_ifn)]\n",
    "ind "
   ]
  },
  {
   "cell_type": "code",
   "execution_count": 24,
   "metadata": {},
   "outputs": [],
   "source": [
    "ind = ind.drop(['artist_id', 'main_genre', 'active_start'], axis=1)\n",
    "ind.to_csv(root + '\\\\MatlabEWM.csv', encoding='utf-8', index=False)"
   ]
  },
  {
   "cell_type": "code",
   "execution_count": null,
   "metadata": {},
   "outputs": [],
   "source": []
  }
 ]
}