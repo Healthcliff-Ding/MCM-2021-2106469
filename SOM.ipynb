{
 "metadata": {
  "language_info": {
   "codemirror_mode": {
    "name": "ipython",
    "version": 3
   },
   "file_extension": ".py",
   "mimetype": "text/x-python",
   "name": "python",
   "nbconvert_exporter": "python",
   "pygments_lexer": "ipython3",
   "version": "3.7.6-final"
  },
  "orig_nbformat": 2,
  "kernelspec": {
   "name": "python37664bitpytorchconda40107000e60648918937917a159efab8",
   "display_name": "Python 3.7.6 64-bit ('pytorch': conda)",
   "language": "python"
  }
 },
 "nbformat": 4,
 "nbformat_minor": 2,
 "cells": [
  {
   "source": [
    "## Preprocessing"
   ],
   "cell_type": "markdown",
   "metadata": {}
  },
  {
   "cell_type": "code",
   "execution_count": 1,
   "metadata": {},
   "outputs": [],
   "source": [
    "import pandas as pd \n",
    "import numpy as np \n",
    "from datetime import datetime"
   ]
  },
  {
   "cell_type": "code",
   "execution_count": 2,
   "metadata": {},
   "outputs": [
    {
     "output_type": "stream",
     "name": "stdout",
     "text": [
      "<class 'pandas.core.frame.DataFrame'>\nRangeIndex: 98340 entries, 0 to 98339\nData columns (total 24 columns):\n #   Column            Non-Null Count  Dtype  \n---  ------            --------------  -----  \n 0   artist_names      98340 non-null  object \n 1   artists_id        98340 non-null  object \n 2   danceability      98340 non-null  float64\n 3   energy            98340 non-null  float64\n 4   valence           98340 non-null  float64\n 5   tempo             98340 non-null  float64\n 6   loudness          98340 non-null  float64\n 7   mode              98340 non-null  float64\n 8   acousticness      98340 non-null  float64\n 9   instrumentalness  98340 non-null  float64\n 10  liveness          98340 non-null  float64\n 11  speechiness       98340 non-null  float64\n 12  is_C              98340 non-null  float64\n 13  is_C#/Db          98340 non-null  float64\n 14  is_D              98340 non-null  float64\n 15  is_D#/Eb          98340 non-null  float64\n 16  is_E              98340 non-null  float64\n 17  is_F              98340 non-null  float64\n 18  is_F#/Gb          98340 non-null  float64\n 19  is_G              98340 non-null  float64\n 20  is_G#/Ab          98340 non-null  float64\n 21  is_A              98340 non-null  float64\n 22  is_A#/Bb          98340 non-null  float64\n 23  is_B              98340 non-null  float64\ndtypes: float64(22), object(2)\nmemory usage: 18.0+ MB\n"
     ]
    }
   ],
   "source": [
    "root = \"E:\\Dataset\\MCM\\\\2021_ICM_Problem_D_Data\"\n",
    "filename = \"NormalCharacData.csv\"\n",
    "data = pd.read_csv(root + '\\\\' + filename)\n",
    "data.info()"
   ]
  },
  {
   "cell_type": "code",
   "execution_count": null,
   "metadata": {},
   "outputs": [],
   "source": [
    "X_train = data.drop(['artist_names', 'artists_id'], axis=1)\n",
    "X_train = np.array(X_train)"
   ]
  },
  {
   "cell_type": "code",
   "execution_count": null,
   "metadata": {},
   "outputs": [],
   "source": [
    "from minisom import MiniSom\n",
    "import math"
   ]
  },
  {
   "cell_type": "code",
   "execution_count": null,
   "metadata": {},
   "outputs": [],
   "source": [
    "#size = math.ceil(np.sqrt(5 * np.sqrt(X_train.shape[0])))  # empirical: Output layer size, equal to 37\n",
    "size = 40\n",
    "\n",
    "max_iter = 100000\n",
    "\n",
    "# Initialization and training\n",
    "som = MiniSom(size, size, X_train.shape[1], sigma=3, learning_rate=1.0, \n",
    "              neighborhood_function='gaussian', activation_distance='manhattan')"
   ]
  },
  {
   "cell_type": "code",
   "execution_count": null,
   "metadata": {},
   "outputs": [],
   "source": [
    "som.pca_weights_init(X_train)\n",
    "som.train(X_train, max_iter, random_order=True, verbose=True)"
   ]
  },
  {
   "source": [
    "## Visualize the Model"
   ],
   "cell_type": "markdown",
   "metadata": {}
  },
  {
   "cell_type": "code",
   "execution_count": null,
   "metadata": {},
   "outputs": [],
   "source": [
    "import matplotlib.pyplot as plt\n",
    "%matplotlib inline\n",
    "\n",
    "heatmap = som.distance_map()  #生成U-Matrix\n",
    "plt.figure(figsize=(20, 20))\n",
    "plt.imshow(heatmap, cmap='bone_r')      #miniSom案例中用的pcolor函数,需要调整坐标\n",
    "plt.colorbar()"
   ]
  },
  {
   "cell_type": "code",
   "execution_count": null,
   "metadata": {},
   "outputs": [],
   "source": [
    "plt.figure(figsize=(20, 20))\n",
    "heatmap = som.activation_response(X_train)\n",
    "plt.pcolor(heatmap, cmap='viridis')  # plotting the distance map as background\n",
    "plt.colorbar()"
   ]
  },
  {
   "source": [
    "## Don't Forget to SAVE MODEL! Don't Forget to CHANGE FILENAME!"
   ],
   "cell_type": "markdown",
   "metadata": {}
  },
  {
   "source": [
    "### Saving the model."
   ],
   "cell_type": "markdown",
   "metadata": {}
  },
  {
   "cell_type": "code",
   "execution_count": null,
   "metadata": {},
   "outputs": [],
   "source": [
    "import pickle\n",
    "with open(root + '\\\\newGaussian2.p', 'wb') as outfile:\n",
    "    pickle.dump(som, outfile)"
   ]
  },
  {
   "source": [
    "### Loading the model."
   ],
   "cell_type": "markdown",
   "metadata": {}
  },
  {
   "cell_type": "code",
   "execution_count": null,
   "metadata": {},
   "outputs": [],
   "source": [
    "import pickle\n",
    "with open(root + '\\\\hugeGaussian2.p', 'rb') as infile:\n",
    "    som = pickle.load(infile)"
   ]
  },
  {
   "cell_type": "code",
   "execution_count": null,
   "metadata": {},
   "outputs": [],
   "source": []
  }
 ]
}