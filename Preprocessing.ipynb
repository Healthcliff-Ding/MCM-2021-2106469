{
 "metadata": {
  "language_info": {
   "codemirror_mode": {
    "name": "ipython",
    "version": 3
   },
   "file_extension": ".py",
   "mimetype": "text/x-python",
   "name": "python",
   "nbconvert_exporter": "python",
   "pygments_lexer": "ipython3",
   "version": "3.7.6-final"
  },
  "orig_nbformat": 2,
  "kernelspec": {
   "name": "python37664bitpytorchconda40107000e60648918937917a159efab8",
   "display_name": "Python 3.7.6 64-bit ('pytorch': conda)",
   "language": "python"
  }
 },
 "nbformat": 4,
 "nbformat_minor": 2,
 "cells": [
  {
   "source": [
    "# Data Preprocessing  \n",
    "## Import  \n",
    "## Check NA Value and Fill Missing Value  \n",
    "## One-Hot Encoding  \n",
    "## Normalization"
   ],
   "cell_type": "markdown",
   "metadata": {}
  },
  {
   "source": [
    "## Import and Check"
   ],
   "cell_type": "markdown",
   "metadata": {}
  },
  {
   "cell_type": "code",
   "execution_count": 5,
   "metadata": {},
   "outputs": [],
   "source": [
    "import numpy as np\n",
    "import pandas as pd\n",
    "from datetime import datetime\n",
    "import tqdm"
   ]
  },
  {
   "cell_type": "code",
   "execution_count": null,
   "metadata": {},
   "outputs": [],
   "source": [
    "root = \"E:\\Dataset\\MCM\\\\2021_ICM_Problem_D_Data\"\n",
    "data = pd.read_csv(root+\"\\\\data_by_artist.csv\", encoding='UTF-8')\n",
    "data.head(10)"
   ]
  },
  {
   "cell_type": "code",
   "execution_count": null,
   "metadata": {},
   "outputs": [],
   "source": [
    "data.info()"
   ]
  },
  {
   "cell_type": "code",
   "execution_count": null,
   "metadata": {},
   "outputs": [],
   "source": [
    "data.describe()"
   ]
  },
  {
   "cell_type": "code",
   "execution_count": null,
   "metadata": {},
   "outputs": [],
   "source": [
    "data.isnull().sum()"
   ]
  },
  {
   "source": [
    "## One-Hot Encoding  \n",
    "### Implement one-hot encoding manaully."
   ],
   "cell_type": "markdown",
   "metadata": {}
  },
  {
   "cell_type": "code",
   "execution_count": null,
   "metadata": {},
   "outputs": [],
   "source": [
    "from sklearn import preprocessing\n",
    "from datetime import datetime"
   ]
  },
  {
   "cell_type": "code",
   "execution_count": null,
   "metadata": {},
   "outputs": [],
   "source": [
    "data.loc[0]"
   ]
  },
  {
   "cell_type": "code",
   "execution_count": null,
   "metadata": {},
   "outputs": [],
   "source": [
    "test_df = pd.DataFrame()\n",
    "df = pd.DataFrame()\n",
    "start_time = datetime.now()\n",
    "for i in range(len(data)):\n",
    "    df = data.loc[i]\n",
    "\n",
    "    df['is_C']     = (0.5 if df.key == 0 else 0)\n",
    "    df['is_C#/Db'] = (0.5 if df.key == 1 else 0)\n",
    "    df['is_D']     = (0.5 if df.key == 2 else 0)\n",
    "    df['is_D#/Eb'] = (0.5 if df.key == 3 else 0)\n",
    "    df['is_E']     = (0.5 if df.key == 4 else 0)\n",
    "    df['is_F']     = (0.5 if df.key == 5 else 0)\n",
    "    df['is_F#/Gb'] = (0.5 if df.key == 6 else 0)\n",
    "    df['is_G']     = (0.5 if df.key == 7 else 0)\n",
    "    df['is_G#/Ab'] = (0.5 if df.key == 8 else 0)\n",
    "    df['is_A']     = (0.5 if df.key == 9 else 0)\n",
    "    df['is_A#/Bb'] = (0.5 if df.key == 10 else 0)\n",
    "    df['is_B']     = (0.5 if df.key == 11 else 0)\n",
    "\n",
    "    test_df = pd.concat([test_df, df], axis=1)\n",
    "    if i % 500 == 0:\n",
    "        print(i, datetime.now() - start_time)"
   ]
  },
  {
   "cell_type": "code",
   "execution_count": null,
   "metadata": {},
   "outputs": [],
   "source": [
    "test_df = test_df.transpose()\n",
    "test_df.head(10)"
   ]
  },
  {
   "cell_type": "code",
   "execution_count": null,
   "metadata": {},
   "outputs": [],
   "source": [
    "data = test_df\n",
    "data = data.drop(['key'], axis=1)\n",
    "data.info()"
   ]
  },
  {
   "cell_type": "code",
   "execution_count": null,
   "metadata": {},
   "outputs": [],
   "source": [
    "filename = 'FullMusicData.csv'\n",
    "data.to_csv(root + '\\\\' + filename, index=False)"
   ]
  },
  {
   "source": [
    "## Normalization"
   ],
   "cell_type": "markdown",
   "metadata": {}
  },
  {
   "cell_type": "code",
   "execution_count": null,
   "metadata": {},
   "outputs": [],
   "source": [
    "data = pd.read_csv(root + '\\\\' + filename)\n",
    "data.head(10)"
   ]
  },
  {
   "cell_type": "code",
   "execution_count": null,
   "metadata": {},
   "outputs": [],
   "source": [
    "data.info()"
   ]
  },
  {
   "cell_type": "code",
   "execution_count": null,
   "metadata": {},
   "outputs": [],
   "source": [
    "data = data.drop(['duration_ms', 'popularity', 'year'],axis=1)\n",
    "data.head(10)"
   ]
  },
  {
   "cell_type": "code",
   "execution_count": null,
   "metadata": {},
   "outputs": [],
   "source": [
    "filename = 'CharacOnly.csv'\n",
    "data.to_csv(root + '\\\\' + filename, index=False)"
   ]
  },
  {
   "cell_type": "code",
   "execution_count": null,
   "metadata": {},
   "outputs": [],
   "source": [
    "def MinMaxScale(attributeName):\n",
    "    a = min(data[attributeName])\n",
    "    b = max(data[attributeName])\n",
    "    for i in range(len(data)):\n",
    "        data[attributeName][i] = (data[attributeName][i] - a) / (b - a) \n",
    "\n",
    "def ZscoreScale(attributeName):\n",
    "    tmp = np.array(data[attributeName])\n",
    "    tmp = (tmp - tmp.mean()) / tmp.std()\n",
    "    data[attributeName] = tmp"
   ]
  },
  {
   "cell_type": "code",
   "execution_count": null,
   "metadata": {},
   "outputs": [],
   "source": [
    "filename = 'CharacOnly.csv'\n",
    "root = \"E:\\Dataset\\MCM\\\\2021_ICM_Problem_D_Data\"\n",
    "data = pd.read_csv(root + '\\\\' + filename, encoding='UTF-8')\n",
    "start_time = datetime.now()\n",
    "\n",
    "attriNameList = ['danceability', 'energy', 'valence', 'tempo', 'loudness',\n",
    "                'acousticness', 'instrumentalness', 'liveness', 'speechiness']\n",
    "start_time = datetime.now()\n",
    "for attri in attriNameList:\n",
    "    ZscoreScale(attri)\n",
    "    print(attri, datetime.now() - start_time)\n",
    "\n",
    "data.head()"
   ]
  },
  {
   "cell_type": "code",
   "execution_count": null,
   "metadata": {},
   "outputs": [],
   "source": [
    "filename = 'NormalCharacData2.csv'\n",
    "data.to_csv(root + '\\\\' + filename, index=False)"
   ]
  },
  {
   "cell_type": "code",
   "execution_count": null,
   "metadata": {},
   "outputs": [],
   "source": [
    "data = pd.read_csv(\"E:\\Dataset\\MCM\\\\2021_ICM_Problem_D_Data\" + \"\\\\NormalCharacData.csv\", encoding='UTF-8')\n",
    "data.head(5)"
   ]
  },
  {
   "cell_type": "code",
   "execution_count": null,
   "metadata": {},
   "outputs": [],
   "source": [
    "data.info()"
   ]
  },
  {
   "cell_type": "code",
   "execution_count": null,
   "metadata": {},
   "outputs": [],
   "source": [
    "std_list = []\n",
    "ind = [2, 3, 4, 5, 6, 8, 9, 10, 11]\n",
    "for f in ind:\n",
    "    df = data.iloc[:, f]\n",
    "    array = np.array(df)\n",
    "    std_list.append(np.std(array))\n",
    "std_list"
   ]
  },
  {
   "cell_type": "code",
   "execution_count": null,
   "metadata": {},
   "outputs": [],
   "source": [
    "array = np.array(std_list)\n",
    "mean = array.mean()\n",
    "mean"
   ]
  },
  {
   "cell_type": "code",
   "execution_count": null,
   "metadata": {},
   "outputs": [],
   "source": [
    "ind = [13, 14, 15, 16, 17, 18, 19, 20, 21, 22, 23, 24]\n",
    "for f in ind:\n",
    "    df = data.iloc[:, f]\n",
    "    array = np.array(df)\n",
    "    array = array * mean\n",
    "    data.iloc[:, f] = array\n",
    "\n",
    "data.head(5)"
   ]
  },
  {
   "cell_type": "code",
   "execution_count": null,
   "metadata": {},
   "outputs": [],
   "source": [
    "array = np.array(data['mode'])\n",
    "array = array * mean\n",
    "data.iloc[:, 7] = array"
   ]
  },
  {
   "cell_type": "code",
   "execution_count": null,
   "metadata": {},
   "outputs": [],
   "source": [
    "data.loc[0]"
   ]
  },
  {
   "cell_type": "code",
   "execution_count": null,
   "metadata": {},
   "outputs": [],
   "source": [
    "data = data.drop(['explicit'], axis=1)\n"
   ]
  },
  {
   "cell_type": "code",
   "execution_count": null,
   "metadata": {},
   "outputs": [],
   "source": [
    "data.to_csv(\"E:\\Dataset\\MCM\\\\2021_ICM_Problem_D_Data\" + \"\\\\NormalCharacData.csv\", encoding='UTF-8', index=False)"
   ]
  },
  {
   "cell_type": "code",
   "execution_count": null,
   "metadata": {},
   "outputs": [],
   "source": [
    "data = pd.read_csv(\"E:\\Dataset\\MCM\\\\2021_ICM_Problem_D_Data\" + \"\\\\NormalCharacData.csv\", encoding='UTF-8')\n",
    "data.info()"
   ]
  },
  {
   "cell_type": "code",
   "execution_count": null,
   "metadata": {},
   "outputs": [],
   "source": [
    "matlab_data = data.drop(['artist_names', 'artists_id'], axis=1)\n",
    "matlab_data.to_csv(\"E:\\Dataset\\MCM\\\\2021_ICM_Problem_D_Data\" + \"\\\\MatlabPCAData.csv\", encoding='UTF-8', index=False)"
   ]
  },
  {
   "source": [
    "## For 'data_by_year.csv;"
   ],
   "cell_type": "markdown",
   "metadata": {}
  },
  {
   "cell_type": "code",
   "execution_count": 3,
   "metadata": {},
   "outputs": [
    {
     "output_type": "execute_result",
     "data": {
      "text/plain": [
       "   year  danceability    energy   valence       tempo   loudness  mode  key  \\\n",
       "0  1921      0.425661  0.236784  0.425495  100.397758 -17.095437     1    7   \n",
       "1  1922      0.480000  0.237026  0.534056  101.376139 -19.179958     1   10   \n",
       "2  1923      0.568462  0.246936  0.624788  112.456598 -14.373882     1    0   \n",
       "3  1924      0.548654  0.347033  0.668574  120.653359 -14.202304     1   10   \n",
       "4  1925      0.571890  0.264373  0.616430  115.671715 -14.516707     1    5   \n",
       "\n",
       "   acousticness  instrumentalness  liveness  speechiness  duration_ms  \\\n",
       "0      0.895823          0.322330  0.215814     0.077258  229911.9141   \n",
       "1      0.939236          0.440470  0.238647     0.115419  167904.5417   \n",
       "2      0.976329          0.401932  0.236656     0.098619  178356.3018   \n",
       "3      0.935575          0.583955  0.237875     0.090210  188461.6498   \n",
       "4      0.965422          0.408893  0.243094     0.115457  184130.6996   \n",
       "\n",
       "   popularity  \n",
       "0    0.351562  \n",
       "1    0.138889  \n",
       "2    5.727811  \n",
       "3    0.603376  \n",
       "4    2.707224  "
      ],
      "text/html": "<div>\n<style scoped>\n    .dataframe tbody tr th:only-of-type {\n        vertical-align: middle;\n    }\n\n    .dataframe tbody tr th {\n        vertical-align: top;\n    }\n\n    .dataframe thead th {\n        text-align: right;\n    }\n</style>\n<table border=\"1\" class=\"dataframe\">\n  <thead>\n    <tr style=\"text-align: right;\">\n      <th></th>\n      <th>year</th>\n      <th>danceability</th>\n      <th>energy</th>\n      <th>valence</th>\n      <th>tempo</th>\n      <th>loudness</th>\n      <th>mode</th>\n      <th>key</th>\n      <th>acousticness</th>\n      <th>instrumentalness</th>\n      <th>liveness</th>\n      <th>speechiness</th>\n      <th>duration_ms</th>\n      <th>popularity</th>\n    </tr>\n  </thead>\n  <tbody>\n    <tr>\n      <th>0</th>\n      <td>1921</td>\n      <td>0.425661</td>\n      <td>0.236784</td>\n      <td>0.425495</td>\n      <td>100.397758</td>\n      <td>-17.095437</td>\n      <td>1</td>\n      <td>7</td>\n      <td>0.895823</td>\n      <td>0.322330</td>\n      <td>0.215814</td>\n      <td>0.077258</td>\n      <td>229911.9141</td>\n      <td>0.351562</td>\n    </tr>\n    <tr>\n      <th>1</th>\n      <td>1922</td>\n      <td>0.480000</td>\n      <td>0.237026</td>\n      <td>0.534056</td>\n      <td>101.376139</td>\n      <td>-19.179958</td>\n      <td>1</td>\n      <td>10</td>\n      <td>0.939236</td>\n      <td>0.440470</td>\n      <td>0.238647</td>\n      <td>0.115419</td>\n      <td>167904.5417</td>\n      <td>0.138889</td>\n    </tr>\n    <tr>\n      <th>2</th>\n      <td>1923</td>\n      <td>0.568462</td>\n      <td>0.246936</td>\n      <td>0.624788</td>\n      <td>112.456598</td>\n      <td>-14.373882</td>\n      <td>1</td>\n      <td>0</td>\n      <td>0.976329</td>\n      <td>0.401932</td>\n      <td>0.236656</td>\n      <td>0.098619</td>\n      <td>178356.3018</td>\n      <td>5.727811</td>\n    </tr>\n    <tr>\n      <th>3</th>\n      <td>1924</td>\n      <td>0.548654</td>\n      <td>0.347033</td>\n      <td>0.668574</td>\n      <td>120.653359</td>\n      <td>-14.202304</td>\n      <td>1</td>\n      <td>10</td>\n      <td>0.935575</td>\n      <td>0.583955</td>\n      <td>0.237875</td>\n      <td>0.090210</td>\n      <td>188461.6498</td>\n      <td>0.603376</td>\n    </tr>\n    <tr>\n      <th>4</th>\n      <td>1925</td>\n      <td>0.571890</td>\n      <td>0.264373</td>\n      <td>0.616430</td>\n      <td>115.671715</td>\n      <td>-14.516707</td>\n      <td>1</td>\n      <td>5</td>\n      <td>0.965422</td>\n      <td>0.408893</td>\n      <td>0.243094</td>\n      <td>0.115457</td>\n      <td>184130.6996</td>\n      <td>2.707224</td>\n    </tr>\n  </tbody>\n</table>\n</div>"
     },
     "metadata": {},
     "execution_count": 3
    }
   ],
   "source": [
    "data = pd.read_csv(\"E:\\Dataset\\MCM\\\\2021_ICM_Problem_D_Data\" + \"\\\\data_by_year.csv\", encoding='UTF-8')\n",
    "data.head(5)"
   ]
  },
  {
   "cell_type": "code",
   "execution_count": 6,
   "metadata": {},
   "outputs": [
    {
     "output_type": "stream",
     "name": "stdout",
     "text": [
      "0 0:00:00.020908\n"
     ]
    }
   ],
   "source": [
    "tmp_df = pd.DataFrame()\n",
    "df = pd.DataFrame()\n",
    "start_time = datetime.now()\n",
    "for i in range(len(data)):\n",
    "    df = data.loc[i]\n",
    "\n",
    "    df['is_C']     = (1 if df.key == 0 else 0)\n",
    "    df['is_C#/Db'] = (1 if df.key == 1 else 0)\n",
    "    df['is_D']     = (1 if df.key == 2 else 0)\n",
    "    df['is_D#/Eb'] = (1 if df.key == 3 else 0)\n",
    "    df['is_E']     = (1 if df.key == 4 else 0)\n",
    "    df['is_F']     = (1 if df.key == 5 else 0)\n",
    "    df['is_F#/Gb'] = (1 if df.key == 6 else 0)\n",
    "    df['is_G']     = (1 if df.key == 7 else 0)\n",
    "    df['is_G#/Ab'] = (1 if df.key == 8 else 0)\n",
    "    df['is_A']     = (1 if df.key == 9 else 0)\n",
    "    df['is_A#/Bb'] = (1 if df.key == 10 else 0)\n",
    "    df['is_B']     = (1 if df.key == 11 else 0)\n",
    "\n",
    "    tmp_df = pd.concat([tmp_df, df], axis=1)"
   ]
  },
  {
   "cell_type": "code",
   "execution_count": 7,
   "metadata": {},
   "outputs": [
    {
     "output_type": "execute_result",
     "data": {
      "text/plain": [
       "year                  1921.000000\n",
       "danceability             0.425661\n",
       "energy                   0.236784\n",
       "valence                  0.425495\n",
       "tempo                  100.397758\n",
       "loudness               -17.095437\n",
       "mode                     1.000000\n",
       "key                      7.000000\n",
       "acousticness             0.895823\n",
       "instrumentalness         0.322330\n",
       "liveness                 0.215814\n",
       "speechiness              0.077258\n",
       "duration_ms         229911.914100\n",
       "popularity               0.351562\n",
       "Name: 0, dtype: float64"
      ]
     },
     "metadata": {},
     "execution_count": 7
    }
   ],
   "source": [
    "data.loc[0]"
   ]
  },
  {
   "cell_type": "code",
   "execution_count": 9,
   "metadata": {},
   "outputs": [
    {
     "output_type": "execute_result",
     "data": {
      "text/plain": [
       "                       0            1            2            3            4   \\\n",
       "year          1921.000000  1922.000000  1923.000000  1924.000000  1925.000000   \n",
       "danceability     0.425661     0.480000     0.568462     0.548654     0.571890   \n",
       "energy           0.236784     0.237026     0.246936     0.347033     0.264373   \n",
       "valence          0.425495     0.534056     0.624788     0.668574     0.616430   \n",
       "tempo          100.397758   101.376139   112.456598   120.653359   115.671715   \n",
       "\n",
       "                       5            6            7            8            9   \\\n",
       "year          1926.000000  1927.000000  1928.000000  1929.000000  1930.000000   \n",
       "danceability     0.558295     0.649960     0.529696     0.647005     0.510382   \n",
       "energy           0.239195     0.256159     0.207143     0.240513     0.327300   \n",
       "valence          0.495961     0.660659     0.492954     0.638208     0.618458   \n",
       "tempo          108.496573   114.611465   106.195246   111.353988   110.214356   \n",
       "\n",
       "              ...           90           91           92           93  \\\n",
       "year          ...  2011.000000  2012.000000  2013.000000  2014.000000   \n",
       "danceability  ...     0.559822     0.571695     0.578874     0.589574   \n",
       "energy        ...     0.671269     0.669811     0.656467     0.653497   \n",
       "valence       ...     0.479515     0.474657     0.467244     0.464599   \n",
       "tempo         ...   122.399305   122.099837   120.784474   122.584669   \n",
       "\n",
       "                       94           95           96           97           98  \\\n",
       "year          2015.000000  2016.000000  2017.000000  2018.000000  2019.000000   \n",
       "danceability     0.591008     0.599976     0.612286     0.664930     0.644215   \n",
       "energy           0.633499     0.592877     0.586739     0.590591     0.578796   \n",
       "valence          0.443944     0.430769     0.414465     0.447141     0.465856   \n",
       "tempo          119.696105   119.070344   116.840277   122.004325   118.868163   \n",
       "\n",
       "                       99  \n",
       "year          2020.000000  \n",
       "danceability     0.673077  \n",
       "energy           0.611914  \n",
       "valence          0.482755  \n",
       "tempo          121.228704  \n",
       "\n",
       "[5 rows x 100 columns]"
      ],
      "text/html": "<div>\n<style scoped>\n    .dataframe tbody tr th:only-of-type {\n        vertical-align: middle;\n    }\n\n    .dataframe tbody tr th {\n        vertical-align: top;\n    }\n\n    .dataframe thead th {\n        text-align: right;\n    }\n</style>\n<table border=\"1\" class=\"dataframe\">\n  <thead>\n    <tr style=\"text-align: right;\">\n      <th></th>\n      <th>0</th>\n      <th>1</th>\n      <th>2</th>\n      <th>3</th>\n      <th>4</th>\n      <th>5</th>\n      <th>6</th>\n      <th>7</th>\n      <th>8</th>\n      <th>9</th>\n      <th>...</th>\n      <th>90</th>\n      <th>91</th>\n      <th>92</th>\n      <th>93</th>\n      <th>94</th>\n      <th>95</th>\n      <th>96</th>\n      <th>97</th>\n      <th>98</th>\n      <th>99</th>\n    </tr>\n  </thead>\n  <tbody>\n    <tr>\n      <th>year</th>\n      <td>1921.000000</td>\n      <td>1922.000000</td>\n      <td>1923.000000</td>\n      <td>1924.000000</td>\n      <td>1925.000000</td>\n      <td>1926.000000</td>\n      <td>1927.000000</td>\n      <td>1928.000000</td>\n      <td>1929.000000</td>\n      <td>1930.000000</td>\n      <td>...</td>\n      <td>2011.000000</td>\n      <td>2012.000000</td>\n      <td>2013.000000</td>\n      <td>2014.000000</td>\n      <td>2015.000000</td>\n      <td>2016.000000</td>\n      <td>2017.000000</td>\n      <td>2018.000000</td>\n      <td>2019.000000</td>\n      <td>2020.000000</td>\n    </tr>\n    <tr>\n      <th>danceability</th>\n      <td>0.425661</td>\n      <td>0.480000</td>\n      <td>0.568462</td>\n      <td>0.548654</td>\n      <td>0.571890</td>\n      <td>0.558295</td>\n      <td>0.649960</td>\n      <td>0.529696</td>\n      <td>0.647005</td>\n      <td>0.510382</td>\n      <td>...</td>\n      <td>0.559822</td>\n      <td>0.571695</td>\n      <td>0.578874</td>\n      <td>0.589574</td>\n      <td>0.591008</td>\n      <td>0.599976</td>\n      <td>0.612286</td>\n      <td>0.664930</td>\n      <td>0.644215</td>\n      <td>0.673077</td>\n    </tr>\n    <tr>\n      <th>energy</th>\n      <td>0.236784</td>\n      <td>0.237026</td>\n      <td>0.246936</td>\n      <td>0.347033</td>\n      <td>0.264373</td>\n      <td>0.239195</td>\n      <td>0.256159</td>\n      <td>0.207143</td>\n      <td>0.240513</td>\n      <td>0.327300</td>\n      <td>...</td>\n      <td>0.671269</td>\n      <td>0.669811</td>\n      <td>0.656467</td>\n      <td>0.653497</td>\n      <td>0.633499</td>\n      <td>0.592877</td>\n      <td>0.586739</td>\n      <td>0.590591</td>\n      <td>0.578796</td>\n      <td>0.611914</td>\n    </tr>\n    <tr>\n      <th>valence</th>\n      <td>0.425495</td>\n      <td>0.534056</td>\n      <td>0.624788</td>\n      <td>0.668574</td>\n      <td>0.616430</td>\n      <td>0.495961</td>\n      <td>0.660659</td>\n      <td>0.492954</td>\n      <td>0.638208</td>\n      <td>0.618458</td>\n      <td>...</td>\n      <td>0.479515</td>\n      <td>0.474657</td>\n      <td>0.467244</td>\n      <td>0.464599</td>\n      <td>0.443944</td>\n      <td>0.430769</td>\n      <td>0.414465</td>\n      <td>0.447141</td>\n      <td>0.465856</td>\n      <td>0.482755</td>\n    </tr>\n    <tr>\n      <th>tempo</th>\n      <td>100.397758</td>\n      <td>101.376139</td>\n      <td>112.456598</td>\n      <td>120.653359</td>\n      <td>115.671715</td>\n      <td>108.496573</td>\n      <td>114.611465</td>\n      <td>106.195246</td>\n      <td>111.353988</td>\n      <td>110.214356</td>\n      <td>...</td>\n      <td>122.399305</td>\n      <td>122.099837</td>\n      <td>120.784474</td>\n      <td>122.584669</td>\n      <td>119.696105</td>\n      <td>119.070344</td>\n      <td>116.840277</td>\n      <td>122.004325</td>\n      <td>118.868163</td>\n      <td>121.228704</td>\n    </tr>\n  </tbody>\n</table>\n<p>5 rows × 100 columns</p>\n</div>"
     },
     "metadata": {},
     "execution_count": 9
    }
   ],
   "source": [
    "tmp_df.head(5)"
   ]
  },
  {
   "cell_type": "code",
   "execution_count": 10,
   "metadata": {},
   "outputs": [],
   "source": [
    "tmp_df = tmp_df.transpose()"
   ]
  },
  {
   "cell_type": "code",
   "execution_count": 11,
   "metadata": {},
   "outputs": [
    {
     "output_type": "execute_result",
     "data": {
      "text/plain": [
       "year                  1921.000000\n",
       "danceability             0.425661\n",
       "energy                   0.236784\n",
       "valence                  0.425495\n",
       "tempo                  100.397758\n",
       "loudness               -17.095437\n",
       "mode                     1.000000\n",
       "key                      7.000000\n",
       "acousticness             0.895823\n",
       "instrumentalness         0.322330\n",
       "liveness                 0.215814\n",
       "speechiness              0.077258\n",
       "duration_ms         229911.914100\n",
       "popularity               0.351562\n",
       "is_C                     0.000000\n",
       "is_C#/Db                 0.000000\n",
       "is_D                     0.000000\n",
       "is_D#/Eb                 0.000000\n",
       "is_E                     0.000000\n",
       "is_F                     0.000000\n",
       "is_F#/Gb                 0.000000\n",
       "is_G                     1.000000\n",
       "is_G#/Ab                 0.000000\n",
       "is_A                     0.000000\n",
       "is_A#/Bb                 0.000000\n",
       "is_B                     0.000000\n",
       "Name: 0, dtype: float64"
      ]
     },
     "metadata": {},
     "execution_count": 11
    }
   ],
   "source": [
    "tmp_df.loc[0]"
   ]
  },
  {
   "cell_type": "code",
   "execution_count": 16,
   "metadata": {},
   "outputs": [
    {
     "output_type": "stream",
     "name": "stdout",
     "text": [
      "<class 'pandas.core.frame.DataFrame'>\nInt64Index: 100 entries, 0 to 99\nData columns (total 25 columns):\n #   Column            Non-Null Count  Dtype  \n---  ------            --------------  -----  \n 0   year              100 non-null    float64\n 1   danceability      100 non-null    float64\n 2   energy            100 non-null    float64\n 3   valence           100 non-null    float64\n 4   tempo             100 non-null    float64\n 5   loudness          100 non-null    float64\n 6   mode              100 non-null    float64\n 7   acousticness      100 non-null    float64\n 8   instrumentalness  100 non-null    float64\n 9   liveness          100 non-null    float64\n 10  speechiness       100 non-null    float64\n 11  duration_ms       100 non-null    float64\n 12  popularity        100 non-null    float64\n 13  is_C              100 non-null    float64\n 14  is_C#/Db          100 non-null    float64\n 15  is_D              100 non-null    float64\n 16  is_D#/Eb          100 non-null    float64\n 17  is_E              100 non-null    float64\n 18  is_F              100 non-null    float64\n 19  is_F#/Gb          100 non-null    float64\n 20  is_G              100 non-null    float64\n 21  is_G#/Ab          100 non-null    float64\n 22  is_A              100 non-null    float64\n 23  is_A#/Bb          100 non-null    float64\n 24  is_B              100 non-null    float64\ndtypes: float64(25)\nmemory usage: 25.3 KB\n"
     ]
    }
   ],
   "source": [
    "data = tmp_df.drop(['key'], axis=1)\n",
    "data.info()"
   ]
  },
  {
   "cell_type": "code",
   "execution_count": 14,
   "metadata": {},
   "outputs": [],
   "source": [
    "def MinMaxScale(attributeName):\n",
    "    a = min(data[attributeName])\n",
    "    b = max(data[attributeName])\n",
    "    for i in range(len(data)):\n",
    "        data[attributeName][i] = (data[attributeName][i] - a) / (b - a) \n",
    "\n",
    "def ZscoreScale(attributeName):\n",
    "    tmp = np.array(data[attributeName])\n",
    "    tmp = (tmp - tmp.mean()) / tmp.std()\n",
    "    data[attributeName] = tmp"
   ]
  },
  {
   "cell_type": "code",
   "execution_count": 17,
   "metadata": {},
   "outputs": [
    {
     "output_type": "stream",
     "name": "stdout",
     "text": [
      "danceability 0:00:00.019592\nenergy 0:00:00.035550\nvalence 0:00:00.046521\ntempo 0:00:00.058488\nloudness 0:00:00.066466\nacousticness 0:00:00.075441\ninstrumentalness 0:00:00.084418\nliveness 0:00:00.093394\nspeechiness 0:00:00.102372\nduration_ms 0:00:00.114339\npopularity 0:00:00.124312\n"
     ]
    },
    {
     "output_type": "execute_result",
     "data": {
      "text/plain": [
       "     year  danceability    energy   valence     tempo  loudness  mode  \\\n",
       "0  1921.0      0.082157  0.066466  0.175866  0.000000  0.166953   1.0   \n",
       "1  1922.0      0.283739  0.066962  0.543930  0.042065  0.000000   1.0   \n",
       "2  1923.0      0.611905  0.087209  0.851547  0.518458  0.384927   1.0   \n",
       "3  1924.0      0.538425  0.291720  1.000000  0.870869  0.398669   1.0   \n",
       "4  1925.0      0.624623  0.122834  0.823213  0.656688  0.373488   1.0   \n",
       "\n",
       "   acousticness  instrumentalness  liveness  ...  is_D  is_D#/Eb  is_E  is_F  \\\n",
       "0      0.892317          0.522589  0.500619  ...   0.0       0.0   0.0   0.0   \n",
       "1      0.950385          0.738170  0.735560  ...   0.0       0.0   0.0   0.0   \n",
       "2      1.000000          0.667847  0.715068  ...   0.0       0.0   0.0   0.0   \n",
       "3      0.945488          1.000000  0.727611  ...   0.0       0.0   0.0   0.0   \n",
       "4      0.985411          0.680549  0.781311  ...   0.0       0.0   0.0   1.0   \n",
       "\n",
       "   is_F#/Gb  is_G  is_G#/Ab  is_A  is_A#/Bb  is_B  \n",
       "0       0.0   1.0       0.0   0.0       0.0   0.0  \n",
       "1       0.0   0.0       0.0   0.0       1.0   0.0  \n",
       "2       0.0   0.0       0.0   0.0       0.0   0.0  \n",
       "3       0.0   0.0       0.0   0.0       1.0   0.0  \n",
       "4       0.0   0.0       0.0   0.0       0.0   0.0  \n",
       "\n",
       "[5 rows x 25 columns]"
      ],
      "text/html": "<div>\n<style scoped>\n    .dataframe tbody tr th:only-of-type {\n        vertical-align: middle;\n    }\n\n    .dataframe tbody tr th {\n        vertical-align: top;\n    }\n\n    .dataframe thead th {\n        text-align: right;\n    }\n</style>\n<table border=\"1\" class=\"dataframe\">\n  <thead>\n    <tr style=\"text-align: right;\">\n      <th></th>\n      <th>year</th>\n      <th>danceability</th>\n      <th>energy</th>\n      <th>valence</th>\n      <th>tempo</th>\n      <th>loudness</th>\n      <th>mode</th>\n      <th>acousticness</th>\n      <th>instrumentalness</th>\n      <th>liveness</th>\n      <th>...</th>\n      <th>is_D</th>\n      <th>is_D#/Eb</th>\n      <th>is_E</th>\n      <th>is_F</th>\n      <th>is_F#/Gb</th>\n      <th>is_G</th>\n      <th>is_G#/Ab</th>\n      <th>is_A</th>\n      <th>is_A#/Bb</th>\n      <th>is_B</th>\n    </tr>\n  </thead>\n  <tbody>\n    <tr>\n      <th>0</th>\n      <td>1921.0</td>\n      <td>0.082157</td>\n      <td>0.066466</td>\n      <td>0.175866</td>\n      <td>0.000000</td>\n      <td>0.166953</td>\n      <td>1.0</td>\n      <td>0.892317</td>\n      <td>0.522589</td>\n      <td>0.500619</td>\n      <td>...</td>\n      <td>0.0</td>\n      <td>0.0</td>\n      <td>0.0</td>\n      <td>0.0</td>\n      <td>0.0</td>\n      <td>1.0</td>\n      <td>0.0</td>\n      <td>0.0</td>\n      <td>0.0</td>\n      <td>0.0</td>\n    </tr>\n    <tr>\n      <th>1</th>\n      <td>1922.0</td>\n      <td>0.283739</td>\n      <td>0.066962</td>\n      <td>0.543930</td>\n      <td>0.042065</td>\n      <td>0.000000</td>\n      <td>1.0</td>\n      <td>0.950385</td>\n      <td>0.738170</td>\n      <td>0.735560</td>\n      <td>...</td>\n      <td>0.0</td>\n      <td>0.0</td>\n      <td>0.0</td>\n      <td>0.0</td>\n      <td>0.0</td>\n      <td>0.0</td>\n      <td>0.0</td>\n      <td>0.0</td>\n      <td>1.0</td>\n      <td>0.0</td>\n    </tr>\n    <tr>\n      <th>2</th>\n      <td>1923.0</td>\n      <td>0.611905</td>\n      <td>0.087209</td>\n      <td>0.851547</td>\n      <td>0.518458</td>\n      <td>0.384927</td>\n      <td>1.0</td>\n      <td>1.000000</td>\n      <td>0.667847</td>\n      <td>0.715068</td>\n      <td>...</td>\n      <td>0.0</td>\n      <td>0.0</td>\n      <td>0.0</td>\n      <td>0.0</td>\n      <td>0.0</td>\n      <td>0.0</td>\n      <td>0.0</td>\n      <td>0.0</td>\n      <td>0.0</td>\n      <td>0.0</td>\n    </tr>\n    <tr>\n      <th>3</th>\n      <td>1924.0</td>\n      <td>0.538425</td>\n      <td>0.291720</td>\n      <td>1.000000</td>\n      <td>0.870869</td>\n      <td>0.398669</td>\n      <td>1.0</td>\n      <td>0.945488</td>\n      <td>1.000000</td>\n      <td>0.727611</td>\n      <td>...</td>\n      <td>0.0</td>\n      <td>0.0</td>\n      <td>0.0</td>\n      <td>0.0</td>\n      <td>0.0</td>\n      <td>0.0</td>\n      <td>0.0</td>\n      <td>0.0</td>\n      <td>1.0</td>\n      <td>0.0</td>\n    </tr>\n    <tr>\n      <th>4</th>\n      <td>1925.0</td>\n      <td>0.624623</td>\n      <td>0.122834</td>\n      <td>0.823213</td>\n      <td>0.656688</td>\n      <td>0.373488</td>\n      <td>1.0</td>\n      <td>0.985411</td>\n      <td>0.680549</td>\n      <td>0.781311</td>\n      <td>...</td>\n      <td>0.0</td>\n      <td>0.0</td>\n      <td>0.0</td>\n      <td>1.0</td>\n      <td>0.0</td>\n      <td>0.0</td>\n      <td>0.0</td>\n      <td>0.0</td>\n      <td>0.0</td>\n      <td>0.0</td>\n    </tr>\n  </tbody>\n</table>\n<p>5 rows × 25 columns</p>\n</div>"
     },
     "metadata": {},
     "execution_count": 17
    }
   ],
   "source": [
    "start_time = datetime.now()\n",
    "\n",
    "attriNameList = ['danceability', 'energy', 'valence', 'tempo', 'loudness',\n",
    "                'acousticness', 'instrumentalness', 'liveness', 'speechiness', 'duration_ms', 'popularity']\n",
    "start_time = datetime.now()\n",
    "for attri in attriNameList:\n",
    "    MinMaxScale(attri)\n",
    "    print(attri, datetime.now() - start_time)\n",
    "\n",
    "data.head()"
   ]
  },
  {
   "cell_type": "code",
   "execution_count": 18,
   "metadata": {},
   "outputs": [],
   "source": [
    "data.to_csv(\"E:\\Dataset\\MCM\\\\2021_ICM_Problem_D_Data\" + \"\\\\NormalYearData.csv\", encoding='UTF-8', index=False)"
   ]
  },
  {
   "cell_type": "code",
   "execution_count": null,
   "metadata": {},
   "outputs": [],
   "source": []
  }
 ]
}