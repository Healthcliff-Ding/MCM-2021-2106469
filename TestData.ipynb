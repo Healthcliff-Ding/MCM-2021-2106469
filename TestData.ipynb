{
 "metadata": {
  "language_info": {
   "codemirror_mode": {
    "name": "ipython",
    "version": 3
   },
   "file_extension": ".py",
   "mimetype": "text/x-python",
   "name": "python",
   "nbconvert_exporter": "python",
   "pygments_lexer": "ipython3",
   "version": "3.7.6-final"
  },
  "orig_nbformat": 2,
  "kernelspec": {
   "name": "python37664bitpytorchconda40107000e60648918937917a159efab8",
   "display_name": "Python 3.7.6 64-bit ('pytorch': conda)",
   "language": "python"
  }
 },
 "nbformat": 4,
 "nbformat_minor": 2,
 "cells": [
  {
   "source": [
    "# Set Label\n",
    "## Load test data."
   ],
   "cell_type": "markdown",
   "metadata": {}
  },
  {
   "cell_type": "code",
   "execution_count": null,
   "metadata": {},
   "outputs": [],
   "source": [
    "import pandas as pd\n",
    "import numpy as np\n",
    "from datetime import datetime"
   ]
  },
  {
   "cell_type": "code",
   "execution_count": null,
   "metadata": {},
   "outputs": [],
   "source": [
    "root = \"E:\\Dataset\\MCM\\\\2021_ICM_Problem_D_Data\"\n",
    "filename = \"data_by_artist.csv\"\n",
    "artist = pd.read_csv(root + '\\\\' + filename, encoding='UTF-8')\n",
    "artist.head(5)"
   ]
  },
  {
   "cell_type": "code",
   "execution_count": null,
   "metadata": {},
   "outputs": [],
   "source": [
    "artist = artist.drop(['artist_name', 'duration_ms', 'popularity', 'count'], axis=True)"
   ]
  },
  {
   "cell_type": "code",
   "execution_count": null,
   "metadata": {},
   "outputs": [],
   "source": [
    "artist.head(5)"
   ]
  },
  {
   "cell_type": "code",
   "execution_count": null,
   "metadata": {},
   "outputs": [],
   "source": [
    "artist.loc[0]"
   ]
  },
  {
   "cell_type": "code",
   "execution_count": null,
   "metadata": {},
   "outputs": [],
   "source": [
    "tmp_df = pd.DataFrame()\n",
    "df = pd.DataFrame()\n",
    "start_time = datetime.now()\n",
    "for i in range(len(artist)):\n",
    "    df = artist.loc[i]\n",
    "\n",
    "    df['is_C']     = (1 if df.key == 0 else 0)\n",
    "    df['is_C#/Db'] = (1 if df.key == 1 else 0)\n",
    "    df['is_D']     = (1 if df.key == 2 else 0)\n",
    "    df['is_D#/Eb'] = (1 if df.key == 3 else 0)\n",
    "    df['is_E']     = (1 if df.key == 4 else 0)\n",
    "    df['is_F']     = (1 if df.key == 5 else 0)\n",
    "    df['is_F#/Gb'] = (1 if df.key == 6 else 0)\n",
    "    df['is_G']     = (1 if df.key == 7 else 0)\n",
    "    df['is_G#/Ab'] = (1 if df.key == 8 else 0)\n",
    "    df['is_A']     = (1 if df.key == 9 else 0)\n",
    "    df['is_A#/Bb'] = (1 if df.key == 10 else 0)\n",
    "    df['is_B']     = (1 if df.key == 11 else 0)\n",
    "\n",
    "    tmp_df = pd.concat([tmp_df, df], axis=1)\n",
    "    if i % 1000 == 0:\n",
    "        print(i, datetime.now() - start_time)"
   ]
  },
  {
   "cell_type": "code",
   "execution_count": null,
   "metadata": {},
   "outputs": [],
   "source": [
    "tmp_df.head(5)"
   ]
  },
  {
   "cell_type": "code",
   "execution_count": null,
   "metadata": {},
   "outputs": [],
   "source": [
    "artist = tmp_df.transpose()\n",
    "artist = artist.drop(['key'], axis=1)\n",
    "artist.head(5)"
   ]
  },
  {
   "source": [
    "## Add corresponding label"
   ],
   "cell_type": "markdown",
   "metadata": {}
  },
  {
   "cell_type": "code",
   "execution_count": null,
   "metadata": {},
   "outputs": [],
   "source": [
    "filename = \"influence_data.csv\"\n",
    "influence = pd.read_csv(root + '\\\\' + filename, encoding='utf-8')\n",
    "influence.head(5)"
   ]
  },
  {
   "cell_type": "code",
   "execution_count": null,
   "metadata": {},
   "outputs": [],
   "source": [
    "musician = np.concatenate((influence['influencer_id'].unique(), influence['follower_id'].unique()), axis=0) \n",
    "musician = np.unique(musician)\n",
    "musician.shape"
   ]
  },
  {
   "cell_type": "code",
   "execution_count": null,
   "metadata": {},
   "outputs": [],
   "source": [
    "id_to_genre = {}\n",
    "df = pd.DataFrame()\n",
    "start_time = datetime.now()\n",
    "tmp_df = pd.DataFrame()\n",
    "for i in range(len(influence)):\n",
    "    df = influence.loc[i]\n",
    "    id_to_genre[df['influencer_id']] = df['influencer_main_genre']\n",
    "    id_to_genre[df['follower_id']] = df['follower_main_genre']\n",
    "    \n",
    "    if i % 500 == 0:\n",
    "        print(i, datetime.now() - start_time)"
   ]
  },
  {
   "cell_type": "code",
   "execution_count": null,
   "metadata": {},
   "outputs": [],
   "source": [
    "artist.loc[0]"
   ]
  },
  {
   "cell_type": "code",
   "execution_count": null,
   "metadata": {},
   "outputs": [],
   "source": [
    "start_time = datetime.now()\n",
    "musician_genre_list = []\n",
    "for i in iter(artist['artist_id']):\n",
    "    if i in id_to_genre.keys() :\n",
    "        musician_genre_list.append(id_to_genre[i])\n",
    "    else:\n",
    "        musician_genre_list.append('')\n",
    "\n",
    "len(musician_genre_list)"
   ]
  },
  {
   "cell_type": "code",
   "execution_count": null,
   "metadata": {},
   "outputs": [],
   "source": [
    "musician_genre_list[:10]"
   ]
  },
  {
   "cell_type": "code",
   "execution_count": null,
   "metadata": {},
   "outputs": [],
   "source": [
    "artist_safe = artist"
   ]
  },
  {
   "cell_type": "code",
   "execution_count": null,
   "metadata": {},
   "outputs": [],
   "source": [
    "artist['main_genre'] = musician_genre_list\n",
    "artist.head(5)"
   ]
  },
  {
   "cell_type": "code",
   "execution_count": null,
   "metadata": {},
   "outputs": [],
   "source": [
    "artist = artist_safe"
   ]
  },
  {
   "cell_type": "code",
   "execution_count": null,
   "metadata": {},
   "outputs": [],
   "source": [
    "artist.isnull().sum()"
   ]
  },
  {
   "cell_type": "code",
   "execution_count": null,
   "metadata": {},
   "outputs": [],
   "source": [
    "drops = []\n",
    "for i in range(len(artist)):\n",
    "    _genre = artist.main_genre[i]\n",
    "    if _genre == '':\n",
    "        drops.append(artist.index[i])\n",
    "        \n",
    "artist = artist.drop(drops)\n",
    "artist.reset_index(inplace=True, drop=True)"
   ]
  },
  {
   "cell_type": "code",
   "execution_count": null,
   "metadata": {},
   "outputs": [],
   "source": [
    "artist.head(5)"
   ]
  },
  {
   "cell_type": "code",
   "execution_count": null,
   "metadata": {},
   "outputs": [],
   "source": [
    "artist.info()"
   ]
  },
  {
   "cell_type": "code",
   "execution_count": null,
   "metadata": {},
   "outputs": [],
   "source": [
    "filename = \"ArtistWithLabel.csv\"\n",
    "artist.to_csv(root + '\\\\' + filename, encoding='utf-8')"
   ]
  },
  {
   "cell_type": "code",
   "execution_count": null,
   "metadata": {},
   "outputs": [],
   "source": [
    "artist_safe = artist"
   ]
  },
  {
   "source": [
    "## Normalize"
   ],
   "cell_type": "markdown",
   "metadata": {}
  },
  {
   "cell_type": "code",
   "execution_count": null,
   "metadata": {},
   "outputs": [],
   "source": [
    "def MinMaxScale(attributeName):\n",
    "    a = min(artist[attributeName])\n",
    "    b = max(artist[attributeName])\n",
    "    for i in range(len(artist)):\n",
    "        artist[attributeName][i] = (artist[attributeName][i] - a) / (b - a) "
   ]
  },
  {
   "cell_type": "code",
   "execution_count": null,
   "metadata": {},
   "outputs": [],
   "source": [
    "attriNameList = ['danceability', 'energy', 'valence', 'tempo', 'loudness',\n",
    "                'acousticness', 'instrumentalness', 'liveness', 'speechiness']\n",
    "start_time = datetime.now()\n",
    "for attri in attriNameList:\n",
    "    MinMaxScale(attri)\n",
    "    print(attri, datetime.now() - start_time)\n",
    "\n",
    "artist.head()"
   ]
  },
  {
   "cell_type": "code",
   "execution_count": null,
   "metadata": {},
   "outputs": [],
   "source": [
    "filename = \"ArtistWithLabel.csv\"\n",
    "artist.to_csv(root + '\\\\' + filename, encoding='utf-8')"
   ]
  },
  {
   "source": [
    "## Make Table \"artist/decades/genre\""
   ],
   "cell_type": "markdown",
   "metadata": {}
  },
  {
   "cell_type": "code",
   "execution_count": null,
   "metadata": {},
   "outputs": [],
   "source": [
    "root = \"E:\\Dataset\\MCM\\\\2021_ICM_Problem_D_Data\"\n",
    "filename = \"ArtistWithLabel.csv\"\n",
    "data = pd.read_csv(root + '\\\\' + filename, encoding='utf-8')\n",
    "data.info()"
   ]
  },
  {
   "cell_type": "code",
   "execution_count": null,
   "metadata": {},
   "outputs": [],
   "source": [
    "data = data.drop(['to_drop'], axis=1)\n",
    "data.info()"
   ]
  },
  {
   "cell_type": "code",
   "execution_count": null,
   "metadata": {},
   "outputs": [],
   "source": [
    "data.to_csv(root + '\\\\' + filename, encoding='utf-8', index=False)"
   ]
  },
  {
   "cell_type": "code",
   "execution_count": null,
   "metadata": {},
   "outputs": [],
   "source": [
    "filename = 'NormalArtistWithLabel.csv'\n",
    "data = pd.read_csv(root + '\\\\' + filename, encoding='utf-8')\n",
    "data.info()"
   ]
  },
  {
   "cell_type": "code",
   "execution_count": 22,
   "metadata": {},
   "outputs": [
    {
     "output_type": "stream",
     "name": "stdout",
     "text": [
      "<class 'pandas.core.frame.DataFrame'>\nRangeIndex: 5602 entries, 0 to 5601\nData columns (total 24 columns):\n #   Column            Non-Null Count  Dtype  \n---  ------            --------------  -----  \n 0   artist_id         5602 non-null   int64  \n 1   danceability      5602 non-null   float64\n 2   energy            5602 non-null   float64\n 3   valence           5602 non-null   float64\n 4   tempo             5602 non-null   float64\n 5   loudness          5602 non-null   float64\n 6   mode              5602 non-null   int64  \n 7   acousticness      5602 non-null   float64\n 8   instrumentalness  5602 non-null   float64\n 9   liveness          5602 non-null   float64\n 10  speechiness       5602 non-null   float64\n 11  is_C              5602 non-null   int64  \n 12  is_C#/Db          5602 non-null   int64  \n 13  is_D              5602 non-null   int64  \n 14  is_D#/Eb          5602 non-null   int64  \n 15  is_E              5602 non-null   int64  \n 16  is_F              5602 non-null   int64  \n 17  is_F#/Gb          5602 non-null   int64  \n 18  is_G              5602 non-null   int64  \n 19  is_G#/Ab          5602 non-null   int64  \n 20  is_A              5602 non-null   int64  \n 21  is_A#/Bb          5602 non-null   int64  \n 22  is_B              5602 non-null   int64  \n 23  main_genre        5602 non-null   object \ndtypes: float64(9), int64(14), object(1)\nmemory usage: 1.0+ MB\n"
     ]
    }
   ],
   "source": [
    "data.info()"
   ]
  },
  {
   "cell_type": "code",
   "execution_count": 16,
   "metadata": {},
   "outputs": [
    {
     "output_type": "stream",
     "name": "stdout",
     "text": [
      "<class 'pandas.core.frame.DataFrame'>\nRangeIndex: 42770 entries, 0 to 42769\nData columns (total 6 columns):\n #   Column                   Non-Null Count  Dtype \n---  ------                   --------------  ----- \n 0   influencer_id            42770 non-null  int64 \n 1   influencer_main_genre    42770 non-null  object\n 2   influencer_active_start  42770 non-null  int64 \n 3   follower_id              42770 non-null  int64 \n 4   follower_main_genre      42770 non-null  object\n 5   follower_active_start    42770 non-null  int64 \ndtypes: int64(4), object(2)\nmemory usage: 2.0+ MB\n"
     ]
    }
   ],
   "source": [
    "filename = 'influence_data.csv'\n",
    "influence_data = pd.read_csv(root + '\\\\' + filename, encoding='utf-8')\n",
    "influence_data.info()"
   ]
  },
  {
   "cell_type": "code",
   "execution_count": null,
   "metadata": {},
   "outputs": [],
   "source": [
    "musician = np.concatenate((influence_data['influencer_id'].unique(), influence_data['follower_id'].unique()), axis=0)\n",
    "musician = np.unique(musician)\n",
    "musician.shape"
   ]
  },
  {
   "cell_type": "code",
   "execution_count": 26,
   "metadata": {},
   "outputs": [],
   "source": [
    "id_to_start = {}\n",
    "df = pd.DataFrame()\n",
    "start_time = datetime.now()\n",
    "for i in range(len(influence_data)):\n",
    "    df = influence_data.loc[i]\n",
    "    id_to_start[df['influencer_id']] = df['influencer_active_start']\n",
    "    id_to_start[df['follower_id']] = df['follower_active_start']\n"
   ]
  },
  {
   "cell_type": "code",
   "execution_count": 27,
   "metadata": {},
   "outputs": [
    {
     "output_type": "execute_result",
     "data": {
      "text/plain": [
       "5602"
      ]
     },
     "metadata": {},
     "execution_count": 27
    }
   ],
   "source": [
    "start_time = datetime.now()\n",
    "musician_start_list = []\n",
    "for i in iter(data['artist_id']):\n",
    "    if i in id_to_start.keys() :\n",
    "        musician_start_list.append(id_to_start[i])\n",
    "    else:\n",
    "        musician_start_list.append(0)\n",
    "\n",
    "len(musician_start_list)"
   ]
  },
  {
   "cell_type": "code",
   "execution_count": 21,
   "metadata": {},
   "outputs": [],
   "source": [
    "data_s = data"
   ]
  },
  {
   "cell_type": "code",
   "execution_count": 28,
   "metadata": {},
   "outputs": [
    {
     "output_type": "execute_result",
     "data": {
      "text/plain": [
       "   artist_id  danceability    energy   valence     tempo  loudness  mode  \\\n",
       "0     792507      0.344917  0.236624  0.353346  0.450884  0.623680     1   \n",
       "1     816890      0.611846  0.448513  0.685619  0.478517  0.688228     1   \n",
       "2      79016      0.558345  0.199884  0.494759  0.449351  0.648872     1   \n",
       "3      66915      0.490243  0.477135  0.550421  0.541808  0.698081     1   \n",
       "4     894465      0.503682  0.719720  0.659016  0.528177  0.778923     1   \n",
       "\n",
       "   acousticness  instrumentalness  liveness  ...  is_E  is_F  is_F#/Gb  is_G  \\\n",
       "0      0.738602          0.021434  0.229359  ...     0     1         0     0   \n",
       "1      0.688390          0.023275  0.239903  ...     0     0         0     0   \n",
       "2      0.912147          0.013426  0.214403  ...     0     1         0     0   \n",
       "3      0.564826          0.035161  0.309317  ...     0     0         0     1   \n",
       "4      0.294967          0.181025  0.267156  ...     0     0         0     0   \n",
       "\n",
       "   is_G#/Ab  is_A  is_A#/Bb  is_B  main_genre  active_start  \n",
       "0         0     0         0     0       Vocal          1930  \n",
       "1         0     0         1     0     Country          1950  \n",
       "2         0     0         0     0       Vocal          1930  \n",
       "3         0     0         0     0    Pop/Rock          1960  \n",
       "4         0     0         0     0    Pop/Rock          1960  \n",
       "\n",
       "[5 rows x 25 columns]"
      ],
      "text/html": "<div>\n<style scoped>\n    .dataframe tbody tr th:only-of-type {\n        vertical-align: middle;\n    }\n\n    .dataframe tbody tr th {\n        vertical-align: top;\n    }\n\n    .dataframe thead th {\n        text-align: right;\n    }\n</style>\n<table border=\"1\" class=\"dataframe\">\n  <thead>\n    <tr style=\"text-align: right;\">\n      <th></th>\n      <th>artist_id</th>\n      <th>danceability</th>\n      <th>energy</th>\n      <th>valence</th>\n      <th>tempo</th>\n      <th>loudness</th>\n      <th>mode</th>\n      <th>acousticness</th>\n      <th>instrumentalness</th>\n      <th>liveness</th>\n      <th>...</th>\n      <th>is_E</th>\n      <th>is_F</th>\n      <th>is_F#/Gb</th>\n      <th>is_G</th>\n      <th>is_G#/Ab</th>\n      <th>is_A</th>\n      <th>is_A#/Bb</th>\n      <th>is_B</th>\n      <th>main_genre</th>\n      <th>active_start</th>\n    </tr>\n  </thead>\n  <tbody>\n    <tr>\n      <th>0</th>\n      <td>792507</td>\n      <td>0.344917</td>\n      <td>0.236624</td>\n      <td>0.353346</td>\n      <td>0.450884</td>\n      <td>0.623680</td>\n      <td>1</td>\n      <td>0.738602</td>\n      <td>0.021434</td>\n      <td>0.229359</td>\n      <td>...</td>\n      <td>0</td>\n      <td>1</td>\n      <td>0</td>\n      <td>0</td>\n      <td>0</td>\n      <td>0</td>\n      <td>0</td>\n      <td>0</td>\n      <td>Vocal</td>\n      <td>1930</td>\n    </tr>\n    <tr>\n      <th>1</th>\n      <td>816890</td>\n      <td>0.611846</td>\n      <td>0.448513</td>\n      <td>0.685619</td>\n      <td>0.478517</td>\n      <td>0.688228</td>\n      <td>1</td>\n      <td>0.688390</td>\n      <td>0.023275</td>\n      <td>0.239903</td>\n      <td>...</td>\n      <td>0</td>\n      <td>0</td>\n      <td>0</td>\n      <td>0</td>\n      <td>0</td>\n      <td>0</td>\n      <td>1</td>\n      <td>0</td>\n      <td>Country</td>\n      <td>1950</td>\n    </tr>\n    <tr>\n      <th>2</th>\n      <td>79016</td>\n      <td>0.558345</td>\n      <td>0.199884</td>\n      <td>0.494759</td>\n      <td>0.449351</td>\n      <td>0.648872</td>\n      <td>1</td>\n      <td>0.912147</td>\n      <td>0.013426</td>\n      <td>0.214403</td>\n      <td>...</td>\n      <td>0</td>\n      <td>1</td>\n      <td>0</td>\n      <td>0</td>\n      <td>0</td>\n      <td>0</td>\n      <td>0</td>\n      <td>0</td>\n      <td>Vocal</td>\n      <td>1930</td>\n    </tr>\n    <tr>\n      <th>3</th>\n      <td>66915</td>\n      <td>0.490243</td>\n      <td>0.477135</td>\n      <td>0.550421</td>\n      <td>0.541808</td>\n      <td>0.698081</td>\n      <td>1</td>\n      <td>0.564826</td>\n      <td>0.035161</td>\n      <td>0.309317</td>\n      <td>...</td>\n      <td>0</td>\n      <td>0</td>\n      <td>0</td>\n      <td>1</td>\n      <td>0</td>\n      <td>0</td>\n      <td>0</td>\n      <td>0</td>\n      <td>Pop/Rock</td>\n      <td>1960</td>\n    </tr>\n    <tr>\n      <th>4</th>\n      <td>894465</td>\n      <td>0.503682</td>\n      <td>0.719720</td>\n      <td>0.659016</td>\n      <td>0.528177</td>\n      <td>0.778923</td>\n      <td>1</td>\n      <td>0.294967</td>\n      <td>0.181025</td>\n      <td>0.267156</td>\n      <td>...</td>\n      <td>0</td>\n      <td>0</td>\n      <td>0</td>\n      <td>0</td>\n      <td>0</td>\n      <td>0</td>\n      <td>0</td>\n      <td>0</td>\n      <td>Pop/Rock</td>\n      <td>1960</td>\n    </tr>\n  </tbody>\n</table>\n<p>5 rows × 25 columns</p>\n</div>"
     },
     "metadata": {},
     "execution_count": 28
    }
   ],
   "source": [
    "data['active_start'] = musician_start_list\n",
    "data.head(5)"
   ]
  },
  {
   "cell_type": "code",
   "execution_count": 32,
   "metadata": {},
   "outputs": [
    {
     "output_type": "stream",
     "name": "stdout",
     "text": [
      "<class 'pandas.core.frame.DataFrame'>\nRangeIndex: 5602 entries, 0 to 5601\nData columns (total 25 columns):\n #   Column            Non-Null Count  Dtype  \n---  ------            --------------  -----  \n 0   artist_id         5602 non-null   int64  \n 1   danceability      5602 non-null   float64\n 2   energy            5602 non-null   float64\n 3   valence           5602 non-null   float64\n 4   tempo             5602 non-null   float64\n 5   loudness          5602 non-null   float64\n 6   mode              5602 non-null   int64  \n 7   acousticness      5602 non-null   float64\n 8   instrumentalness  5602 non-null   float64\n 9   liveness          5602 non-null   float64\n 10  speechiness       5602 non-null   float64\n 11  is_C              5602 non-null   int64  \n 12  is_C#/Db          5602 non-null   int64  \n 13  is_D              5602 non-null   int64  \n 14  is_D#/Eb          5602 non-null   int64  \n 15  is_E              5602 non-null   int64  \n 16  is_F              5602 non-null   int64  \n 17  is_F#/Gb          5602 non-null   int64  \n 18  is_G              5602 non-null   int64  \n 19  is_G#/Ab          5602 non-null   int64  \n 20  is_A              5602 non-null   int64  \n 21  is_A#/Bb          5602 non-null   int64  \n 22  is_B              5602 non-null   int64  \n 23  main_genre        5602 non-null   object \n 24  active_start      5602 non-null   int64  \ndtypes: float64(9), int64(15), object(1)\nmemory usage: 1.1+ MB\n"
     ]
    }
   ],
   "source": [
    "mean = 0.19828750139838144\n",
    "data.info()"
   ]
  },
  {
   "cell_type": "code",
   "execution_count": 33,
   "metadata": {},
   "outputs": [
    {
     "output_type": "execute_result",
     "data": {
      "text/plain": [
       "   artist_id  danceability    energy   valence     tempo  loudness      mode  \\\n",
       "0     792507      0.344917  0.236624  0.353346  0.450884  0.623680  0.198288   \n",
       "1     816890      0.611846  0.448513  0.685619  0.478517  0.688228  0.198288   \n",
       "2      79016      0.558345  0.199884  0.494759  0.449351  0.648872  0.198288   \n",
       "3      66915      0.490243  0.477135  0.550421  0.541808  0.698081  0.198288   \n",
       "4     894465      0.503682  0.719720  0.659016  0.528177  0.778923  0.198288   \n",
       "\n",
       "   acousticness  instrumentalness  liveness  ...  is_E      is_F  is_F#/Gb  \\\n",
       "0      0.738602          0.021434  0.229359  ...   0.0  0.198288       0.0   \n",
       "1      0.688390          0.023275  0.239903  ...   0.0  0.000000       0.0   \n",
       "2      0.912147          0.013426  0.214403  ...   0.0  0.198288       0.0   \n",
       "3      0.564826          0.035161  0.309317  ...   0.0  0.000000       0.0   \n",
       "4      0.294967          0.181025  0.267156  ...   0.0  0.000000       0.0   \n",
       "\n",
       "       is_G  is_G#/Ab  is_A  is_A#/Bb  is_B  main_genre  active_start  \n",
       "0  0.000000       0.0   0.0  0.000000   0.0       Vocal          1930  \n",
       "1  0.000000       0.0   0.0  0.198288   0.0     Country          1950  \n",
       "2  0.000000       0.0   0.0  0.000000   0.0       Vocal          1930  \n",
       "3  0.198288       0.0   0.0  0.000000   0.0    Pop/Rock          1960  \n",
       "4  0.000000       0.0   0.0  0.000000   0.0    Pop/Rock          1960  \n",
       "\n",
       "[5 rows x 25 columns]"
      ],
      "text/html": "<div>\n<style scoped>\n    .dataframe tbody tr th:only-of-type {\n        vertical-align: middle;\n    }\n\n    .dataframe tbody tr th {\n        vertical-align: top;\n    }\n\n    .dataframe thead th {\n        text-align: right;\n    }\n</style>\n<table border=\"1\" class=\"dataframe\">\n  <thead>\n    <tr style=\"text-align: right;\">\n      <th></th>\n      <th>artist_id</th>\n      <th>danceability</th>\n      <th>energy</th>\n      <th>valence</th>\n      <th>tempo</th>\n      <th>loudness</th>\n      <th>mode</th>\n      <th>acousticness</th>\n      <th>instrumentalness</th>\n      <th>liveness</th>\n      <th>...</th>\n      <th>is_E</th>\n      <th>is_F</th>\n      <th>is_F#/Gb</th>\n      <th>is_G</th>\n      <th>is_G#/Ab</th>\n      <th>is_A</th>\n      <th>is_A#/Bb</th>\n      <th>is_B</th>\n      <th>main_genre</th>\n      <th>active_start</th>\n    </tr>\n  </thead>\n  <tbody>\n    <tr>\n      <th>0</th>\n      <td>792507</td>\n      <td>0.344917</td>\n      <td>0.236624</td>\n      <td>0.353346</td>\n      <td>0.450884</td>\n      <td>0.623680</td>\n      <td>0.198288</td>\n      <td>0.738602</td>\n      <td>0.021434</td>\n      <td>0.229359</td>\n      <td>...</td>\n      <td>0.0</td>\n      <td>0.198288</td>\n      <td>0.0</td>\n      <td>0.000000</td>\n      <td>0.0</td>\n      <td>0.0</td>\n      <td>0.000000</td>\n      <td>0.0</td>\n      <td>Vocal</td>\n      <td>1930</td>\n    </tr>\n    <tr>\n      <th>1</th>\n      <td>816890</td>\n      <td>0.611846</td>\n      <td>0.448513</td>\n      <td>0.685619</td>\n      <td>0.478517</td>\n      <td>0.688228</td>\n      <td>0.198288</td>\n      <td>0.688390</td>\n      <td>0.023275</td>\n      <td>0.239903</td>\n      <td>...</td>\n      <td>0.0</td>\n      <td>0.000000</td>\n      <td>0.0</td>\n      <td>0.000000</td>\n      <td>0.0</td>\n      <td>0.0</td>\n      <td>0.198288</td>\n      <td>0.0</td>\n      <td>Country</td>\n      <td>1950</td>\n    </tr>\n    <tr>\n      <th>2</th>\n      <td>79016</td>\n      <td>0.558345</td>\n      <td>0.199884</td>\n      <td>0.494759</td>\n      <td>0.449351</td>\n      <td>0.648872</td>\n      <td>0.198288</td>\n      <td>0.912147</td>\n      <td>0.013426</td>\n      <td>0.214403</td>\n      <td>...</td>\n      <td>0.0</td>\n      <td>0.198288</td>\n      <td>0.0</td>\n      <td>0.000000</td>\n      <td>0.0</td>\n      <td>0.0</td>\n      <td>0.000000</td>\n      <td>0.0</td>\n      <td>Vocal</td>\n      <td>1930</td>\n    </tr>\n    <tr>\n      <th>3</th>\n      <td>66915</td>\n      <td>0.490243</td>\n      <td>0.477135</td>\n      <td>0.550421</td>\n      <td>0.541808</td>\n      <td>0.698081</td>\n      <td>0.198288</td>\n      <td>0.564826</td>\n      <td>0.035161</td>\n      <td>0.309317</td>\n      <td>...</td>\n      <td>0.0</td>\n      <td>0.000000</td>\n      <td>0.0</td>\n      <td>0.198288</td>\n      <td>0.0</td>\n      <td>0.0</td>\n      <td>0.000000</td>\n      <td>0.0</td>\n      <td>Pop/Rock</td>\n      <td>1960</td>\n    </tr>\n    <tr>\n      <th>4</th>\n      <td>894465</td>\n      <td>0.503682</td>\n      <td>0.719720</td>\n      <td>0.659016</td>\n      <td>0.528177</td>\n      <td>0.778923</td>\n      <td>0.198288</td>\n      <td>0.294967</td>\n      <td>0.181025</td>\n      <td>0.267156</td>\n      <td>...</td>\n      <td>0.0</td>\n      <td>0.000000</td>\n      <td>0.0</td>\n      <td>0.000000</td>\n      <td>0.0</td>\n      <td>0.0</td>\n      <td>0.000000</td>\n      <td>0.0</td>\n      <td>Pop/Rock</td>\n      <td>1960</td>\n    </tr>\n  </tbody>\n</table>\n<p>5 rows × 25 columns</p>\n</div>"
     },
     "metadata": {},
     "execution_count": 33
    }
   ],
   "source": [
    "ind = [6, 11, 12, 13, 14, 15, 16, 17, 18, 19, 20, 21, 22]\n",
    "for f in ind:\n",
    "    df = data.iloc[:, f]\n",
    "    array = np.array(df)\n",
    "    array = array * mean\n",
    "    data.iloc[:, f] = array\n",
    "\n",
    "data.head(5)"
   ]
  },
  {
   "cell_type": "code",
   "execution_count": 34,
   "metadata": {},
   "outputs": [
    {
     "output_type": "execute_result",
     "data": {
      "text/plain": [
       "artist_id              792507\n",
       "danceability         0.344917\n",
       "energy               0.236624\n",
       "valence              0.353346\n",
       "tempo                0.450884\n",
       "loudness              0.62368\n",
       "mode                 0.198288\n",
       "acousticness         0.738602\n",
       "instrumentalness    0.0214337\n",
       "liveness             0.229359\n",
       "speechiness         0.0282566\n",
       "is_C                        0\n",
       "is_C#/Db                    0\n",
       "is_D                        0\n",
       "is_D#/Eb                    0\n",
       "is_E                        0\n",
       "is_F                 0.198288\n",
       "is_F#/Gb                    0\n",
       "is_G                        0\n",
       "is_G#/Ab                    0\n",
       "is_A                        0\n",
       "is_A#/Bb                    0\n",
       "is_B                        0\n",
       "main_genre              Vocal\n",
       "active_start             1930\n",
       "Name: 0, dtype: object"
      ]
     },
     "metadata": {},
     "execution_count": 34
    }
   ],
   "source": [
    "data.loc[0]"
   ]
  },
  {
   "cell_type": "code",
   "execution_count": 36,
   "metadata": {},
   "outputs": [],
   "source": [
    "filename = \"NormalArtistWithLabel.csv\"\n",
    "data.to_csv(root + '\\\\' + filename, encoding='utf-8', index=False)"
   ]
  },
  {
   "cell_type": "code",
   "execution_count": null,
   "metadata": {},
   "outputs": [],
   "source": []
  }
 ]
}