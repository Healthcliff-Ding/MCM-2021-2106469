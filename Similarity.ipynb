{
 "metadata": {
  "language_info": {
   "codemirror_mode": {
    "name": "ipython",
    "version": 3
   },
   "file_extension": ".py",
   "mimetype": "text/x-python",
   "name": "python",
   "nbconvert_exporter": "python",
   "pygments_lexer": "ipython3",
   "version": "3.7.6-final"
  },
  "orig_nbformat": 2,
  "kernelspec": {
   "name": "python37664bitpytorchconda40107000e60648918937917a159efab8",
   "display_name": "Python 3.7.6 64-bit ('pytorch': conda)",
   "language": "python"
  }
 },
 "nbformat": 4,
 "nbformat_minor": 2,
 "cells": [
  {
   "cell_type": "code",
   "execution_count": 2,
   "metadata": {},
   "outputs": [],
   "source": [
    "import numpy as np\n",
    "import pandas as pd\n",
    "from datetime import datetime\n",
    "from random import sample"
   ]
  },
  {
   "cell_type": "code",
   "execution_count": 3,
   "metadata": {},
   "outputs": [],
   "source": [
    "def average_song_similarity(root, filename, sample_size):\n",
    "    \n",
    "    all_song = pd.read_csv(root + '\\\\' + filename, encoding='utf-8')\n",
    "    all_song = all_song.iloc[:, 2:]\n",
    "    target = np.array(all_song.iloc[:, :])\n",
    "    target.reshape(98340, -1)\n",
    "\n",
    "    a = range(98340)\n",
    "    rand = np.array(sample(a, sample_size))\n",
    "\n",
    "    similarity = 0.\n",
    "\n",
    "    for i in rand:\n",
    "        for j in rand:\n",
    "            similarity += np.linalg.norm(np.subtract(target[i], target[j]), ord=2)\n",
    "    \n",
    "    similarity /= sample_size * (sample_size - 1)\n",
    "\n",
    "    return similarity"
   ]
  },
  {
   "cell_type": "code",
   "execution_count": 4,
   "metadata": {},
   "outputs": [],
   "source": [
    "def average_artist_similarity(root, filename, sample_size=5602):\n",
    "\n",
    "    data = pd.read_csv(root + '\\\\' + filename, encoding='utf-8')\n",
    "    data = data.iloc[:, 1:23]\n",
    "    data = np.array(data)\n",
    "    data.reshape(5602, -1)\n",
    "\n",
    "    a = range(5602)\n",
    "    rand = np.array(sample(a, sample_size))\n",
    "\n",
    "    similarity = 0.\n",
    "\n",
    "    for i in rand:\n",
    "        for j in rand:\n",
    "            similarity += np.linalg.norm(np.subtract(data[i], data[j]), ord=2)\n",
    "        \n",
    "    similarity /= sample_size * (sample_size - 1)\n",
    "\n",
    "    return similarity"
   ]
  },
  {
   "cell_type": "code",
   "execution_count": 5,
   "metadata": {},
   "outputs": [],
   "source": [
    "def influence_artist_similarity(root, filename1, filename2='influence_data.csv'):\n",
    "\n",
    "    influence = pd.read_csv(root + '\\\\' + filename2, encoding='utf-8')\n",
    "    influence_edge = []\n",
    "    for i in range(42770):\n",
    "        influence_edge.append((influence.iloc[i, 0], influence.iloc[i, 3]))\n",
    "\n",
    "    all_artist = pd.read_csv(root + '\\\\' + filename1, encoding='utf-8')\n",
    "    artist_map = {}\n",
    "    for i in range(5602):\n",
    "        _id = all_artist.iloc[i, 0]\n",
    "        _array = np.array(all_artist.iloc[i, 1:23])\n",
    "        artist_map[_id] = _array\n",
    "    \n",
    "    similarity = 0.\n",
    "    cnt = 0\n",
    "\n",
    "    for i in range(42770):\n",
    "        if (influence_edge[i][0] in artist_map) and (influence_edge[i][1] in artist_map):\n",
    "            similarity += np.linalg.norm(np.subtract(\n",
    "                artist_map[influence_edge[i][0]], \n",
    "                artist_map[influence_edge[i][1]]), ord=2)\n",
    "            cnt += 1\n",
    "    similarity /= cnt\n",
    "    \n",
    "    return cnt, similarity"
   ]
  },
  {
   "cell_type": "code",
   "execution_count": 6,
   "metadata": {},
   "outputs": [],
   "source": [
    "root = 'E:\\Dataset\\MCM\\\\2021_ICM_Problem_D_Data'\n",
    "size = 1000 # actually made computation of similarity 499500 times"
   ]
  },
  {
   "cell_type": "code",
   "execution_count": 9,
   "metadata": {},
   "outputs": [
    {
     "output_type": "execute_result",
     "data": {
      "text/plain": [
       "0.924646895229126"
      ]
     },
     "metadata": {},
     "execution_count": 9
    }
   ],
   "source": [
    "average_song_similarity(root, 'NormalCharacData.csv', size)"
   ]
  },
  {
   "cell_type": "code",
   "execution_count": 10,
   "metadata": {},
   "outputs": [
    {
     "output_type": "execute_result",
     "data": {
      "text/plain": [
       "0.7669807162889025"
      ]
     },
     "metadata": {},
     "execution_count": 10
    }
   ],
   "source": [
    "average_artist_similarity(root, 'NormalArtistWithLabel.csv', size)"
   ]
  },
  {
   "cell_type": "code",
   "execution_count": 18,
   "metadata": {},
   "outputs": [
    {
     "output_type": "execute_result",
     "data": {
      "text/plain": [
       "(42752, 0.5353273698622392)"
      ]
     },
     "metadata": {},
     "execution_count": 18
    }
   ],
   "source": [
    "influence_artist_similarity(root, filename1='NormalArtistWithLabel.csv')"
   ]
  },
  {
   "cell_type": "code",
   "execution_count": 11,
   "metadata": {},
   "outputs": [
    {
     "output_type": "execute_result",
     "data": {
      "text/plain": [
       "   artist_id  danceability    energy   valence     tempo  loudness      mode  \\\n",
       "0     792507      0.344917  0.236624  0.353346  0.450884  0.623680  0.198288   \n",
       "1     816890      0.611846  0.448513  0.685619  0.478517  0.688228  0.198288   \n",
       "2      79016      0.558345  0.199884  0.494759  0.449351  0.648872  0.198288   \n",
       "3      66915      0.490243  0.477135  0.550421  0.541808  0.698081  0.198288   \n",
       "4     894465      0.503682  0.719720  0.659016  0.528177  0.778923  0.198288   \n",
       "\n",
       "   acousticness  instrumentalness  liveness  ...  is_E      is_F  is_F#/Gb  \\\n",
       "0      0.738602          0.021434  0.229359  ...   0.0  0.198288       0.0   \n",
       "1      0.688390          0.023275  0.239903  ...   0.0  0.000000       0.0   \n",
       "2      0.912147          0.013426  0.214403  ...   0.0  0.198288       0.0   \n",
       "3      0.564826          0.035161  0.309317  ...   0.0  0.000000       0.0   \n",
       "4      0.294967          0.181025  0.267156  ...   0.0  0.000000       0.0   \n",
       "\n",
       "       is_G  is_G#/Ab  is_A  is_A#/Bb  is_B  main_genre  active_start  \n",
       "0  0.000000       0.0   0.0  0.000000   0.0       Vocal          1930  \n",
       "1  0.000000       0.0   0.0  0.198288   0.0     Country          1950  \n",
       "2  0.000000       0.0   0.0  0.000000   0.0       Vocal          1930  \n",
       "3  0.198288       0.0   0.0  0.000000   0.0    Pop/Rock          1960  \n",
       "4  0.000000       0.0   0.0  0.000000   0.0    Pop/Rock          1960  \n",
       "\n",
       "[5 rows x 25 columns]"
      ],
      "text/html": "<div>\n<style scoped>\n    .dataframe tbody tr th:only-of-type {\n        vertical-align: middle;\n    }\n\n    .dataframe tbody tr th {\n        vertical-align: top;\n    }\n\n    .dataframe thead th {\n        text-align: right;\n    }\n</style>\n<table border=\"1\" class=\"dataframe\">\n  <thead>\n    <tr style=\"text-align: right;\">\n      <th></th>\n      <th>artist_id</th>\n      <th>danceability</th>\n      <th>energy</th>\n      <th>valence</th>\n      <th>tempo</th>\n      <th>loudness</th>\n      <th>mode</th>\n      <th>acousticness</th>\n      <th>instrumentalness</th>\n      <th>liveness</th>\n      <th>...</th>\n      <th>is_E</th>\n      <th>is_F</th>\n      <th>is_F#/Gb</th>\n      <th>is_G</th>\n      <th>is_G#/Ab</th>\n      <th>is_A</th>\n      <th>is_A#/Bb</th>\n      <th>is_B</th>\n      <th>main_genre</th>\n      <th>active_start</th>\n    </tr>\n  </thead>\n  <tbody>\n    <tr>\n      <th>0</th>\n      <td>792507</td>\n      <td>0.344917</td>\n      <td>0.236624</td>\n      <td>0.353346</td>\n      <td>0.450884</td>\n      <td>0.623680</td>\n      <td>0.198288</td>\n      <td>0.738602</td>\n      <td>0.021434</td>\n      <td>0.229359</td>\n      <td>...</td>\n      <td>0.0</td>\n      <td>0.198288</td>\n      <td>0.0</td>\n      <td>0.000000</td>\n      <td>0.0</td>\n      <td>0.0</td>\n      <td>0.000000</td>\n      <td>0.0</td>\n      <td>Vocal</td>\n      <td>1930</td>\n    </tr>\n    <tr>\n      <th>1</th>\n      <td>816890</td>\n      <td>0.611846</td>\n      <td>0.448513</td>\n      <td>0.685619</td>\n      <td>0.478517</td>\n      <td>0.688228</td>\n      <td>0.198288</td>\n      <td>0.688390</td>\n      <td>0.023275</td>\n      <td>0.239903</td>\n      <td>...</td>\n      <td>0.0</td>\n      <td>0.000000</td>\n      <td>0.0</td>\n      <td>0.000000</td>\n      <td>0.0</td>\n      <td>0.0</td>\n      <td>0.198288</td>\n      <td>0.0</td>\n      <td>Country</td>\n      <td>1950</td>\n    </tr>\n    <tr>\n      <th>2</th>\n      <td>79016</td>\n      <td>0.558345</td>\n      <td>0.199884</td>\n      <td>0.494759</td>\n      <td>0.449351</td>\n      <td>0.648872</td>\n      <td>0.198288</td>\n      <td>0.912147</td>\n      <td>0.013426</td>\n      <td>0.214403</td>\n      <td>...</td>\n      <td>0.0</td>\n      <td>0.198288</td>\n      <td>0.0</td>\n      <td>0.000000</td>\n      <td>0.0</td>\n      <td>0.0</td>\n      <td>0.000000</td>\n      <td>0.0</td>\n      <td>Vocal</td>\n      <td>1930</td>\n    </tr>\n    <tr>\n      <th>3</th>\n      <td>66915</td>\n      <td>0.490243</td>\n      <td>0.477135</td>\n      <td>0.550421</td>\n      <td>0.541808</td>\n      <td>0.698081</td>\n      <td>0.198288</td>\n      <td>0.564826</td>\n      <td>0.035161</td>\n      <td>0.309317</td>\n      <td>...</td>\n      <td>0.0</td>\n      <td>0.000000</td>\n      <td>0.0</td>\n      <td>0.198288</td>\n      <td>0.0</td>\n      <td>0.0</td>\n      <td>0.000000</td>\n      <td>0.0</td>\n      <td>Pop/Rock</td>\n      <td>1960</td>\n    </tr>\n    <tr>\n      <th>4</th>\n      <td>894465</td>\n      <td>0.503682</td>\n      <td>0.719720</td>\n      <td>0.659016</td>\n      <td>0.528177</td>\n      <td>0.778923</td>\n      <td>0.198288</td>\n      <td>0.294967</td>\n      <td>0.181025</td>\n      <td>0.267156</td>\n      <td>...</td>\n      <td>0.0</td>\n      <td>0.000000</td>\n      <td>0.0</td>\n      <td>0.000000</td>\n      <td>0.0</td>\n      <td>0.0</td>\n      <td>0.000000</td>\n      <td>0.0</td>\n      <td>Pop/Rock</td>\n      <td>1960</td>\n    </tr>\n  </tbody>\n</table>\n<p>5 rows × 25 columns</p>\n</div>"
     },
     "metadata": {},
     "execution_count": 11
    }
   ],
   "source": [
    "root = 'E:\\Dataset\\MCM\\\\2021_ICM_Problem_D_Data'\n",
    "data = pd.read_csv(root + '\\\\NormalArtistWithLabel.csv', encoding='utf-8')\n",
    "data.head(5)"
   ]
  },
  {
   "cell_type": "code",
   "execution_count": 13,
   "metadata": {},
   "outputs": [
    {
     "output_type": "stream",
     "name": "stdout",
     "text": [
      "<class 'pandas.core.frame.DataFrame'>\nRangeIndex: 5602 entries, 0 to 5601\nData columns (total 24 columns):\n #   Column            Non-Null Count  Dtype  \n---  ------            --------------  -----  \n 0   artist_id         5602 non-null   int64  \n 1   danceability      5602 non-null   float64\n 2   energy            5602 non-null   float64\n 3   valence           5602 non-null   float64\n 4   tempo             5602 non-null   float64\n 5   loudness          5602 non-null   float64\n 6   mode              5602 non-null   float64\n 7   acousticness      5602 non-null   float64\n 8   instrumentalness  5602 non-null   float64\n 9   liveness          5602 non-null   float64\n 10  speechiness       5602 non-null   float64\n 11  is_C              5602 non-null   float64\n 12  is_C#/Db          5602 non-null   float64\n 13  is_D              5602 non-null   float64\n 14  is_D#/Eb          5602 non-null   float64\n 15  is_E              5602 non-null   float64\n 16  is_F              5602 non-null   float64\n 17  is_F#/Gb          5602 non-null   float64\n 18  is_G              5602 non-null   float64\n 19  is_G#/Ab          5602 non-null   float64\n 20  is_A              5602 non-null   float64\n 21  is_A#/Bb          5602 non-null   float64\n 22  is_B              5602 non-null   float64\n 23  main_genre        5602 non-null   object \ndtypes: float64(22), int64(1), object(1)\nmemory usage: 1.0+ MB\n"
     ]
    }
   ],
   "source": [
    "data = data.drop(['active_start'], axis=1)\n",
    "data.info()"
   ]
  },
  {
   "cell_type": "code",
   "execution_count": 22,
   "metadata": {},
   "outputs": [
    {
     "output_type": "execute_result",
     "data": {
      "text/plain": [
       "True"
      ]
     },
     "metadata": {},
     "execution_count": 22
    }
   ],
   "source": [
    "genre = data['main_genre']\n",
    "for i in range(len(genre)):\n",
    "    genre[i] = str(genre[i])\n",
    "genre[1] == 'Country'\n",
    "data['main_genre'] = genre\n",
    "data.loc[1]['main_genre'] == 'Country'"
   ]
  },
  {
   "cell_type": "code",
   "execution_count": 46,
   "metadata": {},
   "outputs": [
    {
     "output_type": "execute_result",
     "data": {
      "text/plain": [
       "0          Vocal\n",
       "1        Country\n",
       "2          Vocal\n",
       "3       Pop/Rock\n",
       "4       Pop/Rock\n",
       "          ...   \n",
       "5597        R&B;\n",
       "5598     Country\n",
       "5599        R&B;\n",
       "5600     Country\n",
       "5601    Pop/Rock\n",
       "Name: main_genre, Length: 5602, dtype: object"
      ]
     },
     "metadata": {},
     "execution_count": 46
    }
   ],
   "source": [
    "data['main_genre']"
   ]
  },
  {
   "cell_type": "code",
   "execution_count": 28,
   "metadata": {},
   "outputs": [
    {
     "output_type": "execute_result",
     "data": {
      "text/plain": [
       "0        True\n",
       "1       False\n",
       "2        True\n",
       "3       False\n",
       "4       False\n",
       "        ...  \n",
       "5597    False\n",
       "5598    False\n",
       "5599    False\n",
       "5600    False\n",
       "5601    False\n",
       "Name: main_genre, Length: 5602, dtype: bool"
      ]
     },
     "metadata": {},
     "execution_count": 28
    }
   ],
   "source": [
    "ind = data['main_genre'] == 'Vocal'\n",
    "ind"
   ]
  },
  {
   "cell_type": "code",
   "execution_count": 35,
   "metadata": {},
   "outputs": [
    {
     "output_type": "execute_result",
     "data": {
      "text/plain": [
       "     artist_id  danceability    energy   valence     tempo  loudness  \\\n",
       "0       792507      0.344917  0.236624  0.353346  0.450884  0.623680   \n",
       "1        79016      0.558345  0.199884  0.494759  0.449351  0.648872   \n",
       "2       184502      0.395717  0.240253  0.381501  0.444518  0.648330   \n",
       "3       813392      0.437934  0.218185  0.469459  0.456529  0.618754   \n",
       "4       411761      0.412960  0.330324  0.448095  0.475349  0.645208   \n",
       "..         ...           ...       ...       ...       ...       ...   \n",
       "157     642427      0.657441  0.091547  0.601953  0.620426  0.596833   \n",
       "158     749272      0.436252  0.794992  0.829859  0.821395  0.788161   \n",
       "159     762618      0.457804  0.194502  0.389802  0.705925  0.700427   \n",
       "160     813485      0.381806  0.098264  0.229113  0.205828  0.530526   \n",
       "161     814340      0.450998  0.346880  0.057606  0.263017  0.451638   \n",
       "\n",
       "         mode  acousticness  instrumentalness  liveness  ...  is_D#/Eb  is_E  \\\n",
       "0    0.198288      0.738602          0.021434  0.229359  ...       0.0   0.0   \n",
       "1    0.198288      0.912147          0.013426  0.214403  ...       0.0   0.0   \n",
       "2    0.198288      0.835757          0.005200  0.209862  ...       0.0   0.0   \n",
       "3    0.198288      0.870076          0.026669  0.174316  ...       0.0   0.0   \n",
       "4    0.198288      0.783070          0.039541  0.289819  ...       0.0   0.0   \n",
       "..        ...           ...               ...       ...  ...       ...   ...   \n",
       "157  0.000000      0.888554          0.000000  0.105471  ...       0.0   0.0   \n",
       "158  0.000000      0.953815          0.233299  0.890784  ...       0.0   0.0   \n",
       "159  0.000000      0.885542          0.001059  0.263574  ...       0.0   0.0   \n",
       "160  0.000000      0.991968          0.001233  0.132515  ...       0.0   0.0   \n",
       "161  0.198288      0.894578          0.000061  0.252132  ...       0.0   0.0   \n",
       "\n",
       "         is_F  is_F#/Gb      is_G  is_G#/Ab      is_A  is_A#/Bb      is_B  \\\n",
       "0    0.198288       0.0  0.000000       0.0  0.000000  0.000000  0.000000   \n",
       "1    0.198288       0.0  0.000000       0.0  0.000000  0.000000  0.000000   \n",
       "2    0.000000       0.0  0.000000       0.0  0.000000  0.000000  0.000000   \n",
       "3    0.000000       0.0  0.198288       0.0  0.000000  0.000000  0.000000   \n",
       "4    0.000000       0.0  0.000000       0.0  0.198288  0.000000  0.000000   \n",
       "..        ...       ...       ...       ...       ...       ...       ...   \n",
       "157  0.000000       0.0  0.000000       0.0  0.000000  0.198288  0.000000   \n",
       "158  0.000000       0.0  0.000000       0.0  0.000000  0.198288  0.000000   \n",
       "159  0.000000       0.0  0.000000       0.0  0.000000  0.000000  0.198288   \n",
       "160  0.000000       0.0  0.000000       0.0  0.000000  0.198288  0.000000   \n",
       "161  0.000000       0.0  0.198288       0.0  0.000000  0.000000  0.000000   \n",
       "\n",
       "     main_genre  \n",
       "0         Vocal  \n",
       "1         Vocal  \n",
       "2         Vocal  \n",
       "3         Vocal  \n",
       "4         Vocal  \n",
       "..          ...  \n",
       "157       Vocal  \n",
       "158       Vocal  \n",
       "159       Vocal  \n",
       "160       Vocal  \n",
       "161       Vocal  \n",
       "\n",
       "[162 rows x 24 columns]"
      ],
      "text/html": "<div>\n<style scoped>\n    .dataframe tbody tr th:only-of-type {\n        vertical-align: middle;\n    }\n\n    .dataframe tbody tr th {\n        vertical-align: top;\n    }\n\n    .dataframe thead th {\n        text-align: right;\n    }\n</style>\n<table border=\"1\" class=\"dataframe\">\n  <thead>\n    <tr style=\"text-align: right;\">\n      <th></th>\n      <th>artist_id</th>\n      <th>danceability</th>\n      <th>energy</th>\n      <th>valence</th>\n      <th>tempo</th>\n      <th>loudness</th>\n      <th>mode</th>\n      <th>acousticness</th>\n      <th>instrumentalness</th>\n      <th>liveness</th>\n      <th>...</th>\n      <th>is_D#/Eb</th>\n      <th>is_E</th>\n      <th>is_F</th>\n      <th>is_F#/Gb</th>\n      <th>is_G</th>\n      <th>is_G#/Ab</th>\n      <th>is_A</th>\n      <th>is_A#/Bb</th>\n      <th>is_B</th>\n      <th>main_genre</th>\n    </tr>\n  </thead>\n  <tbody>\n    <tr>\n      <th>0</th>\n      <td>792507</td>\n      <td>0.344917</td>\n      <td>0.236624</td>\n      <td>0.353346</td>\n      <td>0.450884</td>\n      <td>0.623680</td>\n      <td>0.198288</td>\n      <td>0.738602</td>\n      <td>0.021434</td>\n      <td>0.229359</td>\n      <td>...</td>\n      <td>0.0</td>\n      <td>0.0</td>\n      <td>0.198288</td>\n      <td>0.0</td>\n      <td>0.000000</td>\n      <td>0.0</td>\n      <td>0.000000</td>\n      <td>0.000000</td>\n      <td>0.000000</td>\n      <td>Vocal</td>\n    </tr>\n    <tr>\n      <th>1</th>\n      <td>79016</td>\n      <td>0.558345</td>\n      <td>0.199884</td>\n      <td>0.494759</td>\n      <td>0.449351</td>\n      <td>0.648872</td>\n      <td>0.198288</td>\n      <td>0.912147</td>\n      <td>0.013426</td>\n      <td>0.214403</td>\n      <td>...</td>\n      <td>0.0</td>\n      <td>0.0</td>\n      <td>0.198288</td>\n      <td>0.0</td>\n      <td>0.000000</td>\n      <td>0.0</td>\n      <td>0.000000</td>\n      <td>0.000000</td>\n      <td>0.000000</td>\n      <td>Vocal</td>\n    </tr>\n    <tr>\n      <th>2</th>\n      <td>184502</td>\n      <td>0.395717</td>\n      <td>0.240253</td>\n      <td>0.381501</td>\n      <td>0.444518</td>\n      <td>0.648330</td>\n      <td>0.198288</td>\n      <td>0.835757</td>\n      <td>0.005200</td>\n      <td>0.209862</td>\n      <td>...</td>\n      <td>0.0</td>\n      <td>0.0</td>\n      <td>0.000000</td>\n      <td>0.0</td>\n      <td>0.000000</td>\n      <td>0.0</td>\n      <td>0.000000</td>\n      <td>0.000000</td>\n      <td>0.000000</td>\n      <td>Vocal</td>\n    </tr>\n    <tr>\n      <th>3</th>\n      <td>813392</td>\n      <td>0.437934</td>\n      <td>0.218185</td>\n      <td>0.469459</td>\n      <td>0.456529</td>\n      <td>0.618754</td>\n      <td>0.198288</td>\n      <td>0.870076</td>\n      <td>0.026669</td>\n      <td>0.174316</td>\n      <td>...</td>\n      <td>0.0</td>\n      <td>0.0</td>\n      <td>0.000000</td>\n      <td>0.0</td>\n      <td>0.198288</td>\n      <td>0.0</td>\n      <td>0.000000</td>\n      <td>0.000000</td>\n      <td>0.000000</td>\n      <td>Vocal</td>\n    </tr>\n    <tr>\n      <th>4</th>\n      <td>411761</td>\n      <td>0.412960</td>\n      <td>0.330324</td>\n      <td>0.448095</td>\n      <td>0.475349</td>\n      <td>0.645208</td>\n      <td>0.198288</td>\n      <td>0.783070</td>\n      <td>0.039541</td>\n      <td>0.289819</td>\n      <td>...</td>\n      <td>0.0</td>\n      <td>0.0</td>\n      <td>0.000000</td>\n      <td>0.0</td>\n      <td>0.000000</td>\n      <td>0.0</td>\n      <td>0.198288</td>\n      <td>0.000000</td>\n      <td>0.000000</td>\n      <td>Vocal</td>\n    </tr>\n    <tr>\n      <th>...</th>\n      <td>...</td>\n      <td>...</td>\n      <td>...</td>\n      <td>...</td>\n      <td>...</td>\n      <td>...</td>\n      <td>...</td>\n      <td>...</td>\n      <td>...</td>\n      <td>...</td>\n      <td>...</td>\n      <td>...</td>\n      <td>...</td>\n      <td>...</td>\n      <td>...</td>\n      <td>...</td>\n      <td>...</td>\n      <td>...</td>\n      <td>...</td>\n      <td>...</td>\n      <td>...</td>\n    </tr>\n    <tr>\n      <th>157</th>\n      <td>642427</td>\n      <td>0.657441</td>\n      <td>0.091547</td>\n      <td>0.601953</td>\n      <td>0.620426</td>\n      <td>0.596833</td>\n      <td>0.000000</td>\n      <td>0.888554</td>\n      <td>0.000000</td>\n      <td>0.105471</td>\n      <td>...</td>\n      <td>0.0</td>\n      <td>0.0</td>\n      <td>0.000000</td>\n      <td>0.0</td>\n      <td>0.000000</td>\n      <td>0.0</td>\n      <td>0.000000</td>\n      <td>0.198288</td>\n      <td>0.000000</td>\n      <td>Vocal</td>\n    </tr>\n    <tr>\n      <th>158</th>\n      <td>749272</td>\n      <td>0.436252</td>\n      <td>0.794992</td>\n      <td>0.829859</td>\n      <td>0.821395</td>\n      <td>0.788161</td>\n      <td>0.000000</td>\n      <td>0.953815</td>\n      <td>0.233299</td>\n      <td>0.890784</td>\n      <td>...</td>\n      <td>0.0</td>\n      <td>0.0</td>\n      <td>0.000000</td>\n      <td>0.0</td>\n      <td>0.000000</td>\n      <td>0.0</td>\n      <td>0.000000</td>\n      <td>0.198288</td>\n      <td>0.000000</td>\n      <td>Vocal</td>\n    </tr>\n    <tr>\n      <th>159</th>\n      <td>762618</td>\n      <td>0.457804</td>\n      <td>0.194502</td>\n      <td>0.389802</td>\n      <td>0.705925</td>\n      <td>0.700427</td>\n      <td>0.000000</td>\n      <td>0.885542</td>\n      <td>0.001059</td>\n      <td>0.263574</td>\n      <td>...</td>\n      <td>0.0</td>\n      <td>0.0</td>\n      <td>0.000000</td>\n      <td>0.0</td>\n      <td>0.000000</td>\n      <td>0.0</td>\n      <td>0.000000</td>\n      <td>0.000000</td>\n      <td>0.198288</td>\n      <td>Vocal</td>\n    </tr>\n    <tr>\n      <th>160</th>\n      <td>813485</td>\n      <td>0.381806</td>\n      <td>0.098264</td>\n      <td>0.229113</td>\n      <td>0.205828</td>\n      <td>0.530526</td>\n      <td>0.000000</td>\n      <td>0.991968</td>\n      <td>0.001233</td>\n      <td>0.132515</td>\n      <td>...</td>\n      <td>0.0</td>\n      <td>0.0</td>\n      <td>0.000000</td>\n      <td>0.0</td>\n      <td>0.000000</td>\n      <td>0.0</td>\n      <td>0.000000</td>\n      <td>0.198288</td>\n      <td>0.000000</td>\n      <td>Vocal</td>\n    </tr>\n    <tr>\n      <th>161</th>\n      <td>814340</td>\n      <td>0.450998</td>\n      <td>0.346880</td>\n      <td>0.057606</td>\n      <td>0.263017</td>\n      <td>0.451638</td>\n      <td>0.198288</td>\n      <td>0.894578</td>\n      <td>0.000061</td>\n      <td>0.252132</td>\n      <td>...</td>\n      <td>0.0</td>\n      <td>0.0</td>\n      <td>0.000000</td>\n      <td>0.0</td>\n      <td>0.198288</td>\n      <td>0.0</td>\n      <td>0.000000</td>\n      <td>0.000000</td>\n      <td>0.000000</td>\n      <td>Vocal</td>\n    </tr>\n  </tbody>\n</table>\n<p>162 rows × 24 columns</p>\n</div>"
     },
     "metadata": {},
     "execution_count": 35
    }
   ],
   "source": [
    "Contry = data[ind]\n",
    "Contry = Contry.reset_index()\n",
    "Contry = Contry.drop(['index'], axis=1)\n",
    "Contry"
   ]
  },
  {
   "cell_type": "code",
   "execution_count": 36,
   "metadata": {},
   "outputs": [
    {
     "output_type": "stream",
     "name": "stdout",
     "text": [
      "<class 'pandas.core.frame.DataFrame'>\nRangeIndex: 162 entries, 0 to 161\nData columns (total 22 columns):\n #   Column            Non-Null Count  Dtype  \n---  ------            --------------  -----  \n 0   danceability      162 non-null    float64\n 1   energy            162 non-null    float64\n 2   valence           162 non-null    float64\n 3   tempo             162 non-null    float64\n 4   loudness          162 non-null    float64\n 5   mode              162 non-null    float64\n 6   acousticness      162 non-null    float64\n 7   instrumentalness  162 non-null    float64\n 8   liveness          162 non-null    float64\n 9   speechiness       162 non-null    float64\n 10  is_C              162 non-null    float64\n 11  is_C#/Db          162 non-null    float64\n 12  is_D              162 non-null    float64\n 13  is_D#/Eb          162 non-null    float64\n 14  is_E              162 non-null    float64\n 15  is_F              162 non-null    float64\n 16  is_F#/Gb          162 non-null    float64\n 17  is_G              162 non-null    float64\n 18  is_G#/Ab          162 non-null    float64\n 19  is_A              162 non-null    float64\n 20  is_A#/Bb          162 non-null    float64\n 21  is_B              162 non-null    float64\ndtypes: float64(22)\nmemory usage: 28.0 KB\n"
     ]
    }
   ],
   "source": [
    "Contry = Contry.drop(['artist_id', 'main_genre'], axis=1)\n",
    "Contry.info()"
   ]
  },
  {
   "cell_type": "code",
   "execution_count": 40,
   "metadata": {},
   "outputs": [
    {
     "output_type": "execute_result",
     "data": {
      "text/plain": [
       "0.55339696184149"
      ]
     },
     "metadata": {},
     "execution_count": 40
    }
   ],
   "source": [
    "similarity = 0.\n",
    "Contry = np.array(Contry)\n",
    "Contry.reshape(162, -1)\n",
    "\n",
    "for i in range(len(Contry)):\n",
    "    for j in range(len(Contry)):\n",
    "        similarity += np.linalg.norm(np.subtract(Contry[i], Contry[j]), ord=2)\n",
    "\n",
    "similarity /= 162 * 161\n",
    "similarity"
   ]
  },
  {
   "cell_type": "code",
   "execution_count": 48,
   "metadata": {},
   "outputs": [
    {
     "output_type": "execute_result",
     "data": {
      "text/plain": [
       "'R&B;'"
      ]
     },
     "metadata": {},
     "execution_count": 48
    }
   ],
   "source": [
    "data['main_genre'][5599]"
   ]
  },
  {
   "cell_type": "code",
   "execution_count": 49,
   "metadata": {},
   "outputs": [
    {
     "output_type": "execute_result",
     "data": {
      "text/plain": [
       "0       False\n",
       "1       False\n",
       "2       False\n",
       "3       False\n",
       "4       False\n",
       "        ...  \n",
       "5597     True\n",
       "5598    False\n",
       "5599     True\n",
       "5600    False\n",
       "5601    False\n",
       "Name: main_genre, Length: 5602, dtype: bool"
      ]
     },
     "metadata": {},
     "execution_count": 49
    }
   ],
   "source": [
    "ind = data['main_genre'] == 'R&B;'\n",
    "ind"
   ]
  },
  {
   "cell_type": "code",
   "execution_count": 52,
   "metadata": {},
   "outputs": [
    {
     "output_type": "execute_result",
     "data": {
      "text/plain": [
       "     artist_id  danceability    energy   valence     tempo  loudness  \\\n",
       "0       622805      0.542845  0.524978  0.617701  0.471518  0.677787   \n",
       "1       316834      0.522794  0.556694  0.653169  0.484845  0.708959   \n",
       "2       927555      0.534354  0.430322  0.573394  0.500689  0.708361   \n",
       "3       238115      0.434621  0.450590  0.603020  0.468294  0.720126   \n",
       "4       467203      0.713834  0.692963  0.627572  0.495891  0.793846   \n",
       "..         ...           ...       ...       ...       ...       ...   \n",
       "672    3043787      0.686933  0.540360  0.219661  0.375676  0.807539   \n",
       "673    3045620      0.534936  0.530335  0.311033  0.344993  0.804551   \n",
       "674    3120458      0.871824  0.533343  0.599853  0.404407  0.814240   \n",
       "675    3359519      0.850272  0.519308  0.742688  0.421341  0.757623   \n",
       "676    3410250      0.631352  0.500261  0.423410  0.415668  0.819470   \n",
       "\n",
       "         mode  acousticness  instrumentalness  liveness  ...  is_D#/Eb  \\\n",
       "0    0.198288      0.344589          0.025823  0.178499  ...       0.0   \n",
       "1    0.000000      0.424943          0.140866  0.227959  ...       0.0   \n",
       "2    0.198288      0.606796          0.006103  0.257903  ...       0.0   \n",
       "3    0.198288      0.702104          0.000263  0.283479  ...       0.0   \n",
       "4    0.198288      0.256325          0.047261  0.191975  ...       0.0   \n",
       "..        ...           ...               ...       ...  ...       ...   \n",
       "672  0.000000      0.097489          0.000000  0.427918  ...       0.0   \n",
       "673  0.198288      0.658634          0.000054  0.102351  ...       0.0   \n",
       "674  0.198288      0.047389          0.000000  0.247972  ...       0.0   \n",
       "675  0.198288      0.000794          0.000013  0.056168  ...       0.0   \n",
       "676  0.000000      0.229919          0.000061  0.090909  ...       0.0   \n",
       "\n",
       "         is_E  is_F  is_F#/Gb      is_G  is_G#/Ab  is_A  is_A#/Bb      is_B  \\\n",
       "0    0.000000   0.0       0.0  0.000000  0.000000   0.0       0.0  0.000000   \n",
       "1    0.000000   0.0       0.0  0.000000  0.000000   0.0       0.0  0.000000   \n",
       "2    0.000000   0.0       0.0  0.000000  0.000000   0.0       0.0  0.000000   \n",
       "3    0.000000   0.0       0.0  0.198288  0.000000   0.0       0.0  0.000000   \n",
       "4    0.000000   0.0       0.0  0.000000  0.000000   0.0       0.0  0.198288   \n",
       "..        ...   ...       ...       ...       ...   ...       ...       ...   \n",
       "672  0.198288   0.0       0.0  0.000000  0.000000   0.0       0.0  0.000000   \n",
       "673  0.000000   0.0       0.0  0.000000  0.198288   0.0       0.0  0.000000   \n",
       "674  0.198288   0.0       0.0  0.000000  0.000000   0.0       0.0  0.000000   \n",
       "675  0.000000   0.0       0.0  0.000000  0.000000   0.0       0.0  0.000000   \n",
       "676  0.000000   0.0       0.0  0.000000  0.000000   0.0       0.0  0.000000   \n",
       "\n",
       "     main_genre  \n",
       "0          R&B;  \n",
       "1          R&B;  \n",
       "2          R&B;  \n",
       "3          R&B;  \n",
       "4          R&B;  \n",
       "..          ...  \n",
       "672        R&B;  \n",
       "673        R&B;  \n",
       "674        R&B;  \n",
       "675        R&B;  \n",
       "676        R&B;  \n",
       "\n",
       "[677 rows x 24 columns]"
      ],
      "text/html": "<div>\n<style scoped>\n    .dataframe tbody tr th:only-of-type {\n        vertical-align: middle;\n    }\n\n    .dataframe tbody tr th {\n        vertical-align: top;\n    }\n\n    .dataframe thead th {\n        text-align: right;\n    }\n</style>\n<table border=\"1\" class=\"dataframe\">\n  <thead>\n    <tr style=\"text-align: right;\">\n      <th></th>\n      <th>artist_id</th>\n      <th>danceability</th>\n      <th>energy</th>\n      <th>valence</th>\n      <th>tempo</th>\n      <th>loudness</th>\n      <th>mode</th>\n      <th>acousticness</th>\n      <th>instrumentalness</th>\n      <th>liveness</th>\n      <th>...</th>\n      <th>is_D#/Eb</th>\n      <th>is_E</th>\n      <th>is_F</th>\n      <th>is_F#/Gb</th>\n      <th>is_G</th>\n      <th>is_G#/Ab</th>\n      <th>is_A</th>\n      <th>is_A#/Bb</th>\n      <th>is_B</th>\n      <th>main_genre</th>\n    </tr>\n  </thead>\n  <tbody>\n    <tr>\n      <th>0</th>\n      <td>622805</td>\n      <td>0.542845</td>\n      <td>0.524978</td>\n      <td>0.617701</td>\n      <td>0.471518</td>\n      <td>0.677787</td>\n      <td>0.198288</td>\n      <td>0.344589</td>\n      <td>0.025823</td>\n      <td>0.178499</td>\n      <td>...</td>\n      <td>0.0</td>\n      <td>0.000000</td>\n      <td>0.0</td>\n      <td>0.0</td>\n      <td>0.000000</td>\n      <td>0.000000</td>\n      <td>0.0</td>\n      <td>0.0</td>\n      <td>0.000000</td>\n      <td>R&amp;B;</td>\n    </tr>\n    <tr>\n      <th>1</th>\n      <td>316834</td>\n      <td>0.522794</td>\n      <td>0.556694</td>\n      <td>0.653169</td>\n      <td>0.484845</td>\n      <td>0.708959</td>\n      <td>0.000000</td>\n      <td>0.424943</td>\n      <td>0.140866</td>\n      <td>0.227959</td>\n      <td>...</td>\n      <td>0.0</td>\n      <td>0.000000</td>\n      <td>0.0</td>\n      <td>0.0</td>\n      <td>0.000000</td>\n      <td>0.000000</td>\n      <td>0.0</td>\n      <td>0.0</td>\n      <td>0.000000</td>\n      <td>R&amp;B;</td>\n    </tr>\n    <tr>\n      <th>2</th>\n      <td>927555</td>\n      <td>0.534354</td>\n      <td>0.430322</td>\n      <td>0.573394</td>\n      <td>0.500689</td>\n      <td>0.708361</td>\n      <td>0.198288</td>\n      <td>0.606796</td>\n      <td>0.006103</td>\n      <td>0.257903</td>\n      <td>...</td>\n      <td>0.0</td>\n      <td>0.000000</td>\n      <td>0.0</td>\n      <td>0.0</td>\n      <td>0.000000</td>\n      <td>0.000000</td>\n      <td>0.0</td>\n      <td>0.0</td>\n      <td>0.000000</td>\n      <td>R&amp;B;</td>\n    </tr>\n    <tr>\n      <th>3</th>\n      <td>238115</td>\n      <td>0.434621</td>\n      <td>0.450590</td>\n      <td>0.603020</td>\n      <td>0.468294</td>\n      <td>0.720126</td>\n      <td>0.198288</td>\n      <td>0.702104</td>\n      <td>0.000263</td>\n      <td>0.283479</td>\n      <td>...</td>\n      <td>0.0</td>\n      <td>0.000000</td>\n      <td>0.0</td>\n      <td>0.0</td>\n      <td>0.198288</td>\n      <td>0.000000</td>\n      <td>0.0</td>\n      <td>0.0</td>\n      <td>0.000000</td>\n      <td>R&amp;B;</td>\n    </tr>\n    <tr>\n      <th>4</th>\n      <td>467203</td>\n      <td>0.713834</td>\n      <td>0.692963</td>\n      <td>0.627572</td>\n      <td>0.495891</td>\n      <td>0.793846</td>\n      <td>0.198288</td>\n      <td>0.256325</td>\n      <td>0.047261</td>\n      <td>0.191975</td>\n      <td>...</td>\n      <td>0.0</td>\n      <td>0.000000</td>\n      <td>0.0</td>\n      <td>0.0</td>\n      <td>0.000000</td>\n      <td>0.000000</td>\n      <td>0.0</td>\n      <td>0.0</td>\n      <td>0.198288</td>\n      <td>R&amp;B;</td>\n    </tr>\n    <tr>\n      <th>...</th>\n      <td>...</td>\n      <td>...</td>\n      <td>...</td>\n      <td>...</td>\n      <td>...</td>\n      <td>...</td>\n      <td>...</td>\n      <td>...</td>\n      <td>...</td>\n      <td>...</td>\n      <td>...</td>\n      <td>...</td>\n      <td>...</td>\n      <td>...</td>\n      <td>...</td>\n      <td>...</td>\n      <td>...</td>\n      <td>...</td>\n      <td>...</td>\n      <td>...</td>\n      <td>...</td>\n    </tr>\n    <tr>\n      <th>672</th>\n      <td>3043787</td>\n      <td>0.686933</td>\n      <td>0.540360</td>\n      <td>0.219661</td>\n      <td>0.375676</td>\n      <td>0.807539</td>\n      <td>0.000000</td>\n      <td>0.097489</td>\n      <td>0.000000</td>\n      <td>0.427918</td>\n      <td>...</td>\n      <td>0.0</td>\n      <td>0.198288</td>\n      <td>0.0</td>\n      <td>0.0</td>\n      <td>0.000000</td>\n      <td>0.000000</td>\n      <td>0.0</td>\n      <td>0.0</td>\n      <td>0.000000</td>\n      <td>R&amp;B;</td>\n    </tr>\n    <tr>\n      <th>673</th>\n      <td>3045620</td>\n      <td>0.534936</td>\n      <td>0.530335</td>\n      <td>0.311033</td>\n      <td>0.344993</td>\n      <td>0.804551</td>\n      <td>0.198288</td>\n      <td>0.658634</td>\n      <td>0.000054</td>\n      <td>0.102351</td>\n      <td>...</td>\n      <td>0.0</td>\n      <td>0.000000</td>\n      <td>0.0</td>\n      <td>0.0</td>\n      <td>0.000000</td>\n      <td>0.198288</td>\n      <td>0.0</td>\n      <td>0.0</td>\n      <td>0.000000</td>\n      <td>R&amp;B;</td>\n    </tr>\n    <tr>\n      <th>674</th>\n      <td>3120458</td>\n      <td>0.871824</td>\n      <td>0.533343</td>\n      <td>0.599853</td>\n      <td>0.404407</td>\n      <td>0.814240</td>\n      <td>0.198288</td>\n      <td>0.047389</td>\n      <td>0.000000</td>\n      <td>0.247972</td>\n      <td>...</td>\n      <td>0.0</td>\n      <td>0.198288</td>\n      <td>0.0</td>\n      <td>0.0</td>\n      <td>0.000000</td>\n      <td>0.000000</td>\n      <td>0.0</td>\n      <td>0.0</td>\n      <td>0.000000</td>\n      <td>R&amp;B;</td>\n    </tr>\n    <tr>\n      <th>675</th>\n      <td>3359519</td>\n      <td>0.850272</td>\n      <td>0.519308</td>\n      <td>0.742688</td>\n      <td>0.421341</td>\n      <td>0.757623</td>\n      <td>0.198288</td>\n      <td>0.000794</td>\n      <td>0.000013</td>\n      <td>0.056168</td>\n      <td>...</td>\n      <td>0.0</td>\n      <td>0.000000</td>\n      <td>0.0</td>\n      <td>0.0</td>\n      <td>0.000000</td>\n      <td>0.000000</td>\n      <td>0.0</td>\n      <td>0.0</td>\n      <td>0.000000</td>\n      <td>R&amp;B;</td>\n    </tr>\n    <tr>\n      <th>676</th>\n      <td>3410250</td>\n      <td>0.631352</td>\n      <td>0.500261</td>\n      <td>0.423410</td>\n      <td>0.415668</td>\n      <td>0.819470</td>\n      <td>0.000000</td>\n      <td>0.229919</td>\n      <td>0.000061</td>\n      <td>0.090909</td>\n      <td>...</td>\n      <td>0.0</td>\n      <td>0.000000</td>\n      <td>0.0</td>\n      <td>0.0</td>\n      <td>0.000000</td>\n      <td>0.000000</td>\n      <td>0.0</td>\n      <td>0.0</td>\n      <td>0.000000</td>\n      <td>R&amp;B;</td>\n    </tr>\n  </tbody>\n</table>\n<p>677 rows × 24 columns</p>\n</div>"
     },
     "metadata": {},
     "execution_count": 52
    }
   ],
   "source": [
    "R_and_B = data[ind]\n",
    "R_and_B = R_and_B.reset_index()\n",
    "R_and_B = R_and_B.drop(['index'], axis=1)\n",
    "R_and_B"
   ]
  },
  {
   "cell_type": "code",
   "execution_count": 53,
   "metadata": {},
   "outputs": [],
   "source": [
    "R_and_B = R_and_B.drop(['artist_id', 'main_genre'], axis=1)"
   ]
  },
  {
   "cell_type": "code",
   "execution_count": 54,
   "metadata": {},
   "outputs": [
    {
     "output_type": "execute_result",
     "data": {
      "text/plain": [
       "0.6043373296244724"
      ]
     },
     "metadata": {},
     "execution_count": 54
    }
   ],
   "source": [
    "similarity = 0.\n",
    "R_and_B = np.array(R_and_B)\n",
    "R_and_B.reshape(677, -1)\n",
    "\n",
    "for i in range(len(R_and_B)):\n",
    "    for j in range(len(R_and_B)):\n",
    "        similarity += np.linalg.norm(np.subtract(R_and_B[i], R_and_B[j]), ord=2)\n",
    "\n",
    "similarity /= 676 * 677\n",
    "similarity"
   ]
  },
  {
   "cell_type": "code",
   "execution_count": 59,
   "metadata": {},
   "outputs": [],
   "source": [
    "def single_genre_similarity(genre_name):\n",
    "    ind = data['main_genre'] == genre_name\n",
    "    _genre = data[ind]\n",
    "    _genre = _genre.reset_index()\n",
    "    _genre = _genre.drop(['index', 'artist_id', 'main_genre'], axis=1)\n",
    "\n",
    "    similarity = 0.\n",
    "\n",
    "    _len = len(_genre)\n",
    "    _genre = np.array(_genre)\n",
    "    _genre.reshape(_len, -1)\n",
    "\n",
    "    for i in range(_len):\n",
    "        for j in range(_len):\n",
    "            similarity += np.linalg.norm(np.subtract(_genre[i], _genre[j]), ord=2)\n",
    "    \n",
    "    similarity /= _len * (_len - 1)\n",
    "    return similarity"
   ]
  },
  {
   "cell_type": "code",
   "execution_count": 60,
   "metadata": {},
   "outputs": [
    {
     "output_type": "execute_result",
     "data": {
      "text/plain": [
       "0.6078322950424849"
      ]
     },
     "metadata": {},
     "execution_count": 60
    }
   ],
   "source": [
    "single_genre_similarity('Country')"
   ]
  },
  {
   "cell_type": "code",
   "execution_count": 61,
   "metadata": {},
   "outputs": [
    {
     "output_type": "execute_result",
     "data": {
      "text/plain": [
       "0.55339696184149"
      ]
     },
     "metadata": {},
     "execution_count": 61
    }
   ],
   "source": [
    "single_genre_similarity('Vocal')"
   ]
  },
  {
   "cell_type": "code",
   "execution_count": 62,
   "metadata": {},
   "outputs": [
    {
     "output_type": "execute_result",
     "data": {
      "text/plain": [
       "0.6652630665805076"
      ]
     },
     "metadata": {},
     "execution_count": 62
    }
   ],
   "source": [
    "single_genre_similarity('Blues')"
   ]
  },
  {
   "cell_type": "code",
   "execution_count": 63,
   "metadata": {},
   "outputs": [
    {
     "output_type": "execute_result",
     "data": {
      "text/plain": [
       "0.8077801344681936"
      ]
     },
     "metadata": {},
     "execution_count": 63
    }
   ],
   "source": [
    "single_genre_similarity('Electronic')"
   ]
  },
  {
   "cell_type": "code",
   "execution_count": 64,
   "metadata": {},
   "outputs": [
    {
     "output_type": "execute_result",
     "data": {
      "text/plain": [
       "0.7557875011554929"
      ]
     },
     "metadata": {},
     "execution_count": 64
    }
   ],
   "source": [
    "single_genre_similarity('Jazz')"
   ]
  },
  {
   "cell_type": "code",
   "execution_count": 65,
   "metadata": {},
   "outputs": [
    {
     "output_type": "execute_result",
     "data": {
      "text/plain": [
       "0.6595082627476392"
      ]
     },
     "metadata": {},
     "execution_count": 65
    }
   ],
   "source": [
    "single_genre_similarity('Latin')"
   ]
  },
  {
   "cell_type": "code",
   "execution_count": 66,
   "metadata": {},
   "outputs": [
    {
     "output_type": "execute_result",
     "data": {
      "text/plain": [
       "0.6043373296244724"
      ]
     },
     "metadata": {},
     "execution_count": 66
    }
   ],
   "source": [
    "single_genre_similarity('R&B;')"
   ]
  },
  {
   "cell_type": "code",
   "execution_count": 67,
   "metadata": {},
   "outputs": [
    {
     "output_type": "execute_result",
     "data": {
      "text/plain": [
       "0.6084508539011001"
      ]
     },
     "metadata": {},
     "execution_count": 67
    }
   ],
   "source": [
    "single_genre_similarity('Reggae')"
   ]
  },
  {
   "cell_type": "code",
   "execution_count": 68,
   "metadata": {},
   "outputs": [
    {
     "output_type": "execute_result",
     "data": {
      "text/plain": [
       "0.6772134794819897"
      ]
     },
     "metadata": {},
     "execution_count": 68
    }
   ],
   "source": [
    "single_genre_similarity('Pop/Rock')"
   ]
  },
  {
   "cell_type": "code",
   "execution_count": 69,
   "metadata": {},
   "outputs": [
    {
     "output_type": "execute_result",
     "data": {
      "text/plain": [
       "0.6667831955668768"
      ]
     },
     "metadata": {},
     "execution_count": 69
    }
   ],
   "source": [
    "single_genre_similarity('Religious')"
   ]
  },
  {
   "cell_type": "code",
   "execution_count": 70,
   "metadata": {},
   "outputs": [
    {
     "output_type": "execute_result",
     "data": {
      "text/plain": [
       "0.6127245892645243"
      ]
     },
     "metadata": {},
     "execution_count": 70
    }
   ],
   "source": [
    "single_genre_similarity('Folk')"
   ]
  },
  {
   "cell_type": "code",
   "execution_count": 71,
   "metadata": {},
   "outputs": [
    {
     "output_type": "execute_result",
     "data": {
      "text/plain": [
       "0.7873007234085022"
      ]
     },
     "metadata": {},
     "execution_count": 71
    }
   ],
   "source": [
    "single_genre_similarity('International')"
   ]
  },
  {
   "cell_type": "code",
   "execution_count": null,
   "metadata": {},
   "outputs": [],
   "source": []
  }
 ]
}